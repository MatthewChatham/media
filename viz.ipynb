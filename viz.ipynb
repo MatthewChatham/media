{
 "cells": [
  {
   "cell_type": "markdown",
   "metadata": {},
   "source": [
    "***Get headlines from Heroku:***"
   ]
  },
  {
   "cell_type": "code",
   "execution_count": 1257,
   "metadata": {},
   "outputs": [
    {
     "name": "stdout",
     "output_type": "stream",
     "text": [
      "2,859 raw headlines\n",
      "0 duplicates\n",
      "(2859, 3)\n"
     ]
    },
    {
     "data": {
      "text/html": [
       "<div>\n",
       "<style scoped>\n",
       "    .dataframe tbody tr th:only-of-type {\n",
       "        vertical-align: middle;\n",
       "    }\n",
       "\n",
       "    .dataframe tbody tr th {\n",
       "        vertical-align: top;\n",
       "    }\n",
       "\n",
       "    .dataframe thead th {\n",
       "        text-align: right;\n",
       "    }\n",
       "</style>\n",
       "<table border=\"1\" class=\"dataframe\">\n",
       "  <thead>\n",
       "    <tr style=\"text-align: right;\">\n",
       "      <th></th>\n",
       "      <th>text</th>\n",
       "      <th>pub</th>\n",
       "      <th>url</th>\n",
       "    </tr>\n",
       "  </thead>\n",
       "  <tbody>\n",
       "    <tr>\n",
       "      <th>0</th>\n",
       "      <td>As China Plans Big Concessions on Trade, Some ...</td>\n",
       "      <td>nyt</td>\n",
       "      <td>https://www.nytimes.com/2018/05/17/us/politics...</td>\n",
       "    </tr>\n",
       "    <tr>\n",
       "      <th>1</th>\n",
       "      <td>China, Signaling Thaw With U.S. Over Trade, Ap...</td>\n",
       "      <td>nyt</td>\n",
       "      <td>https://www.nytimes.com/2018/05/17/business/de...</td>\n",
       "    </tr>\n",
       "    <tr>\n",
       "      <th>2</th>\n",
       "      <td>Qatar-Linked Firm Nears Deal to Bail Out Kushn...</td>\n",
       "      <td>nyt</td>\n",
       "      <td>https://www.nytimes.com/2018/05/17/nyregion/ku...</td>\n",
       "    </tr>\n",
       "    <tr>\n",
       "      <th>3</th>\n",
       "      <td>Filing Shows Trump Paid Cohen, Who Paid Stormy...</td>\n",
       "      <td>nyt</td>\n",
       "      <td>https://www.nytimes.com/2018/05/16/us/politics...</td>\n",
       "    </tr>\n",
       "    <tr>\n",
       "      <th>4</th>\n",
       "      <td>Trump Rants, Calling Some Unauthorized Immigra...</td>\n",
       "      <td>nyt</td>\n",
       "      <td>https://www.nytimes.com/2018/05/16/us/politics...</td>\n",
       "    </tr>\n",
       "  </tbody>\n",
       "</table>\n",
       "</div>"
      ],
      "text/plain": [
       "                                                text  pub  \\\n",
       "0  As China Plans Big Concessions on Trade, Some ...  nyt   \n",
       "1  China, Signaling Thaw With U.S. Over Trade, Ap...  nyt   \n",
       "2  Qatar-Linked Firm Nears Deal to Bail Out Kushn...  nyt   \n",
       "3  Filing Shows Trump Paid Cohen, Who Paid Stormy...  nyt   \n",
       "4  Trump Rants, Calling Some Unauthorized Immigra...  nyt   \n",
       "\n",
       "                                                 url  \n",
       "0  https://www.nytimes.com/2018/05/17/us/politics...  \n",
       "1  https://www.nytimes.com/2018/05/17/business/de...  \n",
       "2  https://www.nytimes.com/2018/05/17/nyregion/ku...  \n",
       "3  https://www.nytimes.com/2018/05/16/us/politics...  \n",
       "4  https://www.nytimes.com/2018/05/16/us/politics...  "
      ]
     },
     "execution_count": 1257,
     "metadata": {},
     "output_type": "execute_result"
    }
   ],
   "source": [
    "import os\n",
    "import pandas as pd\n",
    "from sqlalchemy import create_engine\n",
    "import matplotlib.pyplot as plt\n",
    "import seaborn as sns\n",
    "%matplotlib inline\n",
    "import string\n",
    "sns.set_style('white')\n",
    "from IPython.display import display\n",
    "\n",
    "\n",
    "db_url = os.environ['DATABASE_URL']\n",
    "headlines = pd.read_sql_query('SELECT index, headline AS text, pub, url FROM headlines;', create_engine(db_url), index_col='index')\n",
    "print(f'{len(headlines):,} raw headlines')\n",
    "headlines['text'].sample(5, random_state=42).head().values.tolist()\n",
    "\n",
    "# Deduplication:\n",
    "print(f'{len(headlines) - len(headlines.drop_duplicates()):,} duplicates')\n",
    "headlines.drop_duplicates(inplace=True)\n",
    "print(headlines.shape)\n",
    "headlines.reset_index(inplace=True, drop=True)\n",
    "headlines.head()"
   ]
  },
  {
   "cell_type": "code",
   "execution_count": 1258,
   "metadata": {},
   "outputs": [
    {
     "data": {
      "text/plain": [
       "['Trump’s next round of trade limits could hurt the tech industry he wants to help',\n",
       " 'Mimi Swartz: Things Have Changed Since Sandy Hook',\n",
       " 'Dusting Off an Art Deco Feminist Treasure',\n",
       " 'Why bring politics into Armed Forces Day? Because this year, our servicemen and women deserve it',\n",
       " 'Meet the donors pouring millions into the 2018 elections']"
      ]
     },
     "execution_count": 1258,
     "metadata": {},
     "output_type": "execute_result"
    }
   ],
   "source": [
    "headlines['text'].sample(5, random_state=0).values.tolist()"
   ]
  },
  {
   "cell_type": "markdown",
   "metadata": {},
   "source": [
    "Do different sources have different vocabularies?"
   ]
  },
  {
   "cell_type": "markdown",
   "metadata": {},
   "source": [
    "Some patterns:\n",
    "\n",
    "* Source:paraphrase|quote, e.g., \"Ex-FBI official: Trump was right to fire Comey\"\n",
    "    * Can we extract quotes/paraphrases and their source?\n",
    "* State abbreviations, e.g., \"Md.\" for Maryland\n",
    "* Lots of long apposatives, e.g., \"Md. Democratic candidate for governor Valerie Ervin ...\""
   ]
  },
  {
   "cell_type": "markdown",
   "metadata": {},
   "source": [
    "***Data cleaning:***"
   ]
  },
  {
   "cell_type": "code",
   "execution_count": 1259,
   "metadata": {},
   "outputs": [
    {
     "data": {
      "text/html": [
       "<div>\n",
       "<style scoped>\n",
       "    .dataframe tbody tr th:only-of-type {\n",
       "        vertical-align: middle;\n",
       "    }\n",
       "\n",
       "    .dataframe tbody tr th {\n",
       "        vertical-align: top;\n",
       "    }\n",
       "\n",
       "    .dataframe thead th {\n",
       "        text-align: right;\n",
       "    }\n",
       "</style>\n",
       "<table border=\"1\" class=\"dataframe\">\n",
       "  <thead>\n",
       "    <tr style=\"text-align: right;\">\n",
       "      <th></th>\n",
       "      <th>text</th>\n",
       "      <th>pub</th>\n",
       "      <th>url</th>\n",
       "    </tr>\n",
       "  </thead>\n",
       "  <tbody>\n",
       "    <tr>\n",
       "      <th>2722</th>\n",
       "      <td>Special Report With Bret Baier - Monday, May 21</td>\n",
       "      <td>fox</td>\n",
       "      <td>//video.foxnews.com/v/5787858151001/?playlist_...</td>\n",
       "    </tr>\n",
       "    <tr>\n",
       "      <th>2747</th>\n",
       "      <td>The Story w/ Martha MacCallum - Monday, May 21</td>\n",
       "      <td>fox</td>\n",
       "      <td>//video.foxnews.com/v/5787865611001/?playlist_...</td>\n",
       "    </tr>\n",
       "    <tr>\n",
       "      <th>590</th>\n",
       "      <td>Fox News @ Night - Thursday, May 17</td>\n",
       "      <td>fox</td>\n",
       "      <td>//video.foxnews.com/v/5786474684001/?playlist_...</td>\n",
       "    </tr>\n",
       "    <tr>\n",
       "      <th>591</th>\n",
       "      <td>The Ingraham Angle - Thursday, May 17</td>\n",
       "      <td>fox</td>\n",
       "      <td>//video.foxnews.com/v/5786457745001/?playlist_...</td>\n",
       "    </tr>\n",
       "    <tr>\n",
       "      <th>1768</th>\n",
       "      <td>The Next Revolution w/Steve Hilton – Sunday, M...</td>\n",
       "      <td>fox</td>\n",
       "      <td>//video.foxnews.com/v/5787483762001/?playlist_...</td>\n",
       "    </tr>\n",
       "  </tbody>\n",
       "</table>\n",
       "</div>"
      ],
      "text/plain": [
       "                                                   text  pub  \\\n",
       "2722    Special Report With Bret Baier - Monday, May 21  fox   \n",
       "2747     The Story w/ Martha MacCallum - Monday, May 21  fox   \n",
       "590                 Fox News @ Night - Thursday, May 17  fox   \n",
       "591               The Ingraham Angle - Thursday, May 17  fox   \n",
       "1768  The Next Revolution w/Steve Hilton – Sunday, M...  fox   \n",
       "\n",
       "                                                    url  \n",
       "2722  //video.foxnews.com/v/5787858151001/?playlist_...  \n",
       "2747  //video.foxnews.com/v/5787865611001/?playlist_...  \n",
       "590   //video.foxnews.com/v/5786474684001/?playlist_...  \n",
       "591   //video.foxnews.com/v/5786457745001/?playlist_...  \n",
       "1768  //video.foxnews.com/v/5787483762001/?playlist_...  "
      ]
     },
     "metadata": {},
     "output_type": "display_data"
    },
    {
     "data": {
      "text/plain": [
       "(2828, 3)"
      ]
     },
     "execution_count": 1259,
     "metadata": {},
     "output_type": "execute_result"
    }
   ],
   "source": [
    "# Drop headlines about TV shows, e.g., \"Hannity - Monday, May 16\"\n",
    "display(headlines.loc[headlines.text.str.contains(r'\\S+\\s* [-–—] \\S+\\s*, May .+')].sample(5))\n",
    "headlines = headlines.loc[~headlines.text.str.contains(r'\\S+\\s* [-–—] \\S+\\s*, May .+')]\n",
    "headlines.shape"
   ]
  },
  {
   "cell_type": "code",
   "execution_count": 1260,
   "metadata": {},
   "outputs": [
    {
     "name": "stderr",
     "output_type": "stream",
     "text": [
      "C:\\Anaconda3\\envs\\media\\lib\\site-packages\\ipykernel_launcher.py:3: UserWarning: This pattern has match groups. To actually get the groups, use str.extract.\n",
      "  This is separate from the ipykernel package so we can avoid doing imports until\n"
     ]
    },
    {
     "data": {
      "text/html": [
       "<div>\n",
       "<style scoped>\n",
       "    .dataframe tbody tr th:only-of-type {\n",
       "        vertical-align: middle;\n",
       "    }\n",
       "\n",
       "    .dataframe tbody tr th {\n",
       "        vertical-align: top;\n",
       "    }\n",
       "\n",
       "    .dataframe thead th {\n",
       "        text-align: right;\n",
       "    }\n",
       "</style>\n",
       "<table border=\"1\" class=\"dataframe\">\n",
       "  <thead>\n",
       "    <tr style=\"text-align: right;\">\n",
       "      <th></th>\n",
       "      <th>text</th>\n",
       "      <th>pub</th>\n",
       "      <th>url</th>\n",
       "    </tr>\n",
       "  </thead>\n",
       "  <tbody>\n",
       "    <tr>\n",
       "      <th>2026</th>\n",
       "      <td>Monarchs in My Garden, at Last 5:45 AM ET</td>\n",
       "      <td>nyt</td>\n",
       "      <td>https://www.nytimes.com/2018/05/21/opinion/pol...</td>\n",
       "    </tr>\n",
       "    <tr>\n",
       "      <th>2590</th>\n",
       "      <td>Dozens Die in Karachi from Relentless Heat 5:2...</td>\n",
       "      <td>nyt</td>\n",
       "      <td>https://www.nytimes.com/2018/05/21/world/karac...</td>\n",
       "    </tr>\n",
       "    <tr>\n",
       "      <th>2183</th>\n",
       "      <td>Monarchs in My Garden, at Last 10:13 AM ET</td>\n",
       "      <td>nyt</td>\n",
       "      <td>https://www.nytimes.com/2018/05/21/opinion/pol...</td>\n",
       "    </tr>\n",
       "    <tr>\n",
       "      <th>2833</th>\n",
       "      <td>Dozens Die in Karachi From Relentless Heat 12:...</td>\n",
       "      <td>nyt</td>\n",
       "      <td>https://www.nytimes.com/2018/05/21/world/karac...</td>\n",
       "    </tr>\n",
       "    <tr>\n",
       "      <th>2506</th>\n",
       "      <td>How to Vote in Venezuela’s (Non) Election 3:20...</td>\n",
       "      <td>nyt</td>\n",
       "      <td>https://www.nytimes.com/2018/05/21/opinion/ven...</td>\n",
       "    </tr>\n",
       "  </tbody>\n",
       "</table>\n",
       "</div>"
      ],
      "text/plain": [
       "                                                   text  pub  \\\n",
       "2026          Monarchs in My Garden, at Last 5:45 AM ET  nyt   \n",
       "2590  Dozens Die in Karachi from Relentless Heat 5:2...  nyt   \n",
       "2183         Monarchs in My Garden, at Last 10:13 AM ET  nyt   \n",
       "2833  Dozens Die in Karachi From Relentless Heat 12:...  nyt   \n",
       "2506  How to Vote in Venezuela’s (Non) Election 3:20...  nyt   \n",
       "\n",
       "                                                    url  \n",
       "2026  https://www.nytimes.com/2018/05/21/opinion/pol...  \n",
       "2590  https://www.nytimes.com/2018/05/21/world/karac...  \n",
       "2183  https://www.nytimes.com/2018/05/21/opinion/pol...  \n",
       "2833  https://www.nytimes.com/2018/05/21/world/karac...  \n",
       "2506  https://www.nytimes.com/2018/05/21/opinion/ven...  "
      ]
     },
     "metadata": {},
     "output_type": "display_data"
    },
    {
     "data": {
      "text/plain": [
       "(2770, 3)"
      ]
     },
     "execution_count": 1260,
     "metadata": {},
     "output_type": "execute_result"
    }
   ],
   "source": [
    "# Strip a common time pattern on video headlines\n",
    "time_pat = f'(\\s\\d+:\\d+ (PM|AM) \\w+[{string.punctuation}]*\\s*)'\n",
    "display(headlines[headlines.text.str.contains(time_pat)].sample(5))\n",
    "headlines['text'] = headlines['text'].str.replace(pat, '')\n",
    "strip_pat(time_pat)\n",
    "headlines.drop_duplicates(inplace=True)\n",
    "headlines.shape"
   ]
  },
  {
   "cell_type": "code",
   "execution_count": 1261,
   "metadata": {},
   "outputs": [
    {
     "data": {
      "text/plain": [
       "(2770, 3)"
      ]
     },
     "execution_count": 1261,
     "metadata": {},
     "output_type": "execute_result"
    }
   ],
   "source": [
    "# This could interfere with pos_tag\n",
    "# Remove punctuation, except for the hyphen\n",
    "# headlines['text'] = headlines['text'].str.replace(f'[{string.punctuation.replace(\"-\", \"\")}]' , '')\n",
    "# headlines.drop_duplicates(inplace=True)\n",
    "headlines.shape"
   ]
  },
  {
   "cell_type": "code",
   "execution_count": 1262,
   "metadata": {},
   "outputs": [
    {
     "data": {
      "text/plain": [
       "(2768, 3)"
      ]
     },
     "execution_count": 1262,
     "metadata": {},
     "output_type": "execute_result"
    }
   ],
   "source": [
    "# Standardize quotation marks:\n",
    "headlines['text'] = headlines['text'].str.replace(r'[”’\\'\"“‘]', '\\'')\n",
    "headlines.drop_duplicates(inplace=True)\n",
    "headlines.shape"
   ]
  },
  {
   "cell_type": "code",
   "execution_count": 1263,
   "metadata": {},
   "outputs": [
    {
     "data": {
      "text/html": [
       "<div>\n",
       "<style scoped>\n",
       "    .dataframe tbody tr th:only-of-type {\n",
       "        vertical-align: middle;\n",
       "    }\n",
       "\n",
       "    .dataframe tbody tr th {\n",
       "        vertical-align: top;\n",
       "    }\n",
       "\n",
       "    .dataframe thead th {\n",
       "        text-align: right;\n",
       "    }\n",
       "</style>\n",
       "<table border=\"1\" class=\"dataframe\">\n",
       "  <thead>\n",
       "    <tr style=\"text-align: right;\">\n",
       "      <th></th>\n",
       "      <th>text</th>\n",
       "      <th>pub</th>\n",
       "      <th>url</th>\n",
       "    </tr>\n",
       "  </thead>\n",
       "  <tbody>\n",
       "    <tr>\n",
       "      <th>776</th>\n",
       "      <td>Follow us on Twitter »</td>\n",
       "      <td>nyt</td>\n",
       "      <td>https://twitter.com/nytopinion</td>\n",
       "    </tr>\n",
       "  </tbody>\n",
       "</table>\n",
       "</div>"
      ],
      "text/plain": [
       "                       text  pub                             url\n",
       "776  Follow us on Twitter »  nyt  https://twitter.com/nytopinion"
      ]
     },
     "metadata": {},
     "output_type": "display_data"
    },
    {
     "data": {
      "text/plain": [
       "(2768, 3)"
      ]
     },
     "execution_count": 1263,
     "metadata": {},
     "output_type": "execute_result"
    }
   ],
   "source": [
    "display(headlines[headlines.text.str.contains('»')])\n",
    "headlines['text'] = headlines['text'].str.replace('»', '')\n",
    "headlines.drop_duplicates(inplace=True)\n",
    "headlines.shape"
   ]
  },
  {
   "cell_type": "code",
   "execution_count": 1264,
   "metadata": {},
   "outputs": [
    {
     "data": {
      "text/html": [
       "<div>\n",
       "<style scoped>\n",
       "    .dataframe tbody tr th:only-of-type {\n",
       "        vertical-align: middle;\n",
       "    }\n",
       "\n",
       "    .dataframe tbody tr th {\n",
       "        vertical-align: top;\n",
       "    }\n",
       "\n",
       "    .dataframe thead th {\n",
       "        text-align: right;\n",
       "    }\n",
       "</style>\n",
       "<table border=\"1\" class=\"dataframe\">\n",
       "  <thead>\n",
       "    <tr style=\"text-align: right;\">\n",
       "      <th></th>\n",
       "      <th>text</th>\n",
       "      <th>pub</th>\n",
       "      <th>url</th>\n",
       "    </tr>\n",
       "  </thead>\n",
       "  <tbody>\n",
       "    <tr>\n",
       "      <th>1329</th>\n",
       "      <td>`: Dusting Off an Art Deco Feminist Treasure</td>\n",
       "      <td>nyt</td>\n",
       "      <td>https://www.nytimes.com/2018/05/16/nyregion/du...</td>\n",
       "    </tr>\n",
       "  </tbody>\n",
       "</table>\n",
       "</div>"
      ],
      "text/plain": [
       "                                              text  pub  \\\n",
       "1329  `: Dusting Off an Art Deco Feminist Treasure  nyt   \n",
       "\n",
       "                                                    url  \n",
       "1329  https://www.nytimes.com/2018/05/16/nyregion/du...  "
      ]
     },
     "metadata": {},
     "output_type": "display_data"
    }
   ],
   "source": [
    "display(headlines[headlines.text.str.contains('`')])\n",
    "headlines = headlines[~headlines.text.str.contains('`')]"
   ]
  },
  {
   "cell_type": "code",
   "execution_count": 1265,
   "metadata": {},
   "outputs": [
    {
     "data": {
      "text/html": [
       "<div>\n",
       "<style scoped>\n",
       "    .dataframe tbody tr th:only-of-type {\n",
       "        vertical-align: middle;\n",
       "    }\n",
       "\n",
       "    .dataframe tbody tr th {\n",
       "        vertical-align: top;\n",
       "    }\n",
       "\n",
       "    .dataframe thead th {\n",
       "        text-align: right;\n",
       "    }\n",
       "</style>\n",
       "<table border=\"1\" class=\"dataframe\">\n",
       "  <thead>\n",
       "    <tr style=\"text-align: right;\">\n",
       "      <th></th>\n",
       "      <th>text</th>\n",
       "      <th>pub</th>\n",
       "      <th>url</th>\n",
       "    </tr>\n",
       "  </thead>\n",
       "  <tbody>\n",
       "    <tr>\n",
       "      <th>1160</th>\n",
       "      <td>'Just saying ¯\\_(ツ)_/¯' — BBC Three compares r...</td>\n",
       "      <td>wapo</td>\n",
       "      <td>https://www.washingtonpost.com/news/worldviews...</td>\n",
       "    </tr>\n",
       "  </tbody>\n",
       "</table>\n",
       "</div>"
      ],
      "text/plain": [
       "                                                   text   pub  \\\n",
       "1160  'Just saying ¯\\_(ツ)_/¯' — BBC Three compares r...  wapo   \n",
       "\n",
       "                                                    url  \n",
       "1160  https://www.washingtonpost.com/news/worldviews...  "
      ]
     },
     "metadata": {},
     "output_type": "display_data"
    }
   ],
   "source": [
    "display(headlines[headlines.text.str.contains('ツ')])\n",
    "headlines = headlines[~headlines.text.str.contains('ツ')]"
   ]
  },
  {
   "cell_type": "code",
   "execution_count": 1266,
   "metadata": {},
   "outputs": [
    {
     "data": {
      "text/html": [
       "<div>\n",
       "<style scoped>\n",
       "    .dataframe tbody tr th:only-of-type {\n",
       "        vertical-align: middle;\n",
       "    }\n",
       "\n",
       "    .dataframe tbody tr th {\n",
       "        vertical-align: top;\n",
       "    }\n",
       "\n",
       "    .dataframe thead th {\n",
       "        text-align: right;\n",
       "    }\n",
       "</style>\n",
       "<table border=\"1\" class=\"dataframe\">\n",
       "  <thead>\n",
       "    <tr style=\"text-align: right;\">\n",
       "      <th></th>\n",
       "      <th>text</th>\n",
       "      <th>pub</th>\n",
       "      <th>url</th>\n",
       "    </tr>\n",
       "  </thead>\n",
       "  <tbody>\n",
       "    <tr>\n",
       "      <th>1285</th>\n",
       "      <td>Hits &amp; Misses: 5/19/18</td>\n",
       "      <td>fox</td>\n",
       "      <td>//video.foxnews.com/v/5787182621001/</td>\n",
       "    </tr>\n",
       "  </tbody>\n",
       "</table>\n",
       "</div>"
      ],
      "text/plain": [
       "                        text  pub                                   url\n",
       "1285  Hits & Misses: 5/19/18  fox  //video.foxnews.com/v/5787182621001/"
      ]
     },
     "metadata": {},
     "output_type": "display_data"
    }
   ],
   "source": [
    "display(headlines[headlines.text.str.contains('/')])\n",
    "headlines = headlines[~headlines.text.str.contains('/')]"
   ]
  },
  {
   "cell_type": "code",
   "execution_count": 1267,
   "metadata": {},
   "outputs": [
    {
     "data": {
      "text/html": [
       "<div>\n",
       "<style scoped>\n",
       "    .dataframe tbody tr th:only-of-type {\n",
       "        vertical-align: middle;\n",
       "    }\n",
       "\n",
       "    .dataframe tbody tr th {\n",
       "        vertical-align: top;\n",
       "    }\n",
       "\n",
       "    .dataframe thead th {\n",
       "        text-align: right;\n",
       "    }\n",
       "</style>\n",
       "<table border=\"1\" class=\"dataframe\">\n",
       "  <thead>\n",
       "    <tr style=\"text-align: right;\">\n",
       "      <th></th>\n",
       "      <th>text</th>\n",
       "      <th>pub</th>\n",
       "      <th>url</th>\n",
       "    </tr>\n",
       "  </thead>\n",
       "  <tbody>\n",
       "    <tr>\n",
       "      <th>2805</th>\n",
       "      <td>Not at the Game*: Courtside With Run TMC, Watc...</td>\n",
       "      <td>nyt</td>\n",
       "      <td>https://www.nytimes.com/2018/05/21/sports/gold...</td>\n",
       "    </tr>\n",
       "  </tbody>\n",
       "</table>\n",
       "</div>"
      ],
      "text/plain": [
       "                                                   text  pub  \\\n",
       "2805  Not at the Game*: Courtside With Run TMC, Watc...  nyt   \n",
       "\n",
       "                                                    url  \n",
       "2805  https://www.nytimes.com/2018/05/21/sports/gold...  "
      ]
     },
     "metadata": {},
     "output_type": "display_data"
    }
   ],
   "source": [
    "display(headlines[headlines.text.str.contains('\\*')])\n",
    "headlines = headlines[~headlines.text.str.contains('\\*')]"
   ]
  },
  {
   "cell_type": "code",
   "execution_count": 1268,
   "metadata": {},
   "outputs": [
    {
     "data": {
      "text/html": [
       "<div>\n",
       "<style scoped>\n",
       "    .dataframe tbody tr th:only-of-type {\n",
       "        vertical-align: middle;\n",
       "    }\n",
       "\n",
       "    .dataframe tbody tr th {\n",
       "        vertical-align: top;\n",
       "    }\n",
       "\n",
       "    .dataframe thead th {\n",
       "        text-align: right;\n",
       "    }\n",
       "</style>\n",
       "<table border=\"1\" class=\"dataframe\">\n",
       "  <thead>\n",
       "    <tr style=\"text-align: right;\">\n",
       "      <th></th>\n",
       "      <th>text</th>\n",
       "      <th>pub</th>\n",
       "      <th>url</th>\n",
       "    </tr>\n",
       "  </thead>\n",
       "  <tbody>\n",
       "    <tr>\n",
       "      <th>142</th>\n",
       "      <td>Lincoln vs. Obama - The incredible tale of two...</td>\n",
       "      <td>fox</td>\n",
       "      <td>http://www.foxnews.com/opinion/2018/05/16/tamm...</td>\n",
       "    </tr>\n",
       "    <tr>\n",
       "      <th>143</th>\n",
       "      <td>America - We must remember how to respectfully...</td>\n",
       "      <td>fox</td>\n",
       "      <td>http://www.foxnews.com/opinion/2018/05/17/cal-...</td>\n",
       "    </tr>\n",
       "    <tr>\n",
       "      <th>1005</th>\n",
       "      <td>GOP pours cash into bid to repeal California g...</td>\n",
       "      <td>fox</td>\n",
       "      <td>//www.foxnews.com/politics/2018/05/19/gop-pour...</td>\n",
       "    </tr>\n",
       "    <tr>\n",
       "      <th>1118</th>\n",
       "      <td>Royal caught lounging at wedding - and Twitter...</td>\n",
       "      <td>fox</td>\n",
       "      <td>http://www.foxnews.com/entertainment/2018/05/1...</td>\n",
       "    </tr>\n",
       "    <tr>\n",
       "      <th>2196</th>\n",
       "      <td>'Legends &amp; Lies – Abraham Lincoln: The Campaign'</td>\n",
       "      <td>fox</td>\n",
       "      <td>//video.foxnews.com/v/5787444706001/?playlist_...</td>\n",
       "    </tr>\n",
       "    <tr>\n",
       "      <th>2242</th>\n",
       "      <td>Jesus banned - School censors valedictorian's ...</td>\n",
       "      <td>fox</td>\n",
       "      <td>http://www.foxnews.com/opinion/2018/05/21/todd...</td>\n",
       "    </tr>\n",
       "    <tr>\n",
       "      <th>2326</th>\n",
       "      <td>Disgraced Dem Conyers endorsed son for his own...</td>\n",
       "      <td>fox</td>\n",
       "      <td>http://www.foxnews.com/politics/2018/05/21/dis...</td>\n",
       "    </tr>\n",
       "    <tr>\n",
       "      <th>2334</th>\n",
       "      <td>Disgraced Dem Conyers endorsed son for his own...</td>\n",
       "      <td>fox</td>\n",
       "      <td>//www.foxnews.com/politics/2018/05/21/disgrace...</td>\n",
       "    </tr>\n",
       "    <tr>\n",
       "      <th>2362</th>\n",
       "      <td>Disgraced Democrat forced out of House endorse...</td>\n",
       "      <td>fox</td>\n",
       "      <td>http://www.foxnews.com/politics/2018/05/21/dis...</td>\n",
       "    </tr>\n",
       "  </tbody>\n",
       "</table>\n",
       "</div>"
      ],
      "text/plain": [
       "                                                   text  pub  \\\n",
       "142   Lincoln vs. Obama - The incredible tale of two...  fox   \n",
       "143   America - We must remember how to respectfully...  fox   \n",
       "1005  GOP pours cash into bid to repeal California g...  fox   \n",
       "1118  Royal caught lounging at wedding - and Twitter...  fox   \n",
       "2196   'Legends & Lies – Abraham Lincoln: The Campaign'  fox   \n",
       "2242  Jesus banned - School censors valedictorian's ...  fox   \n",
       "2326  Disgraced Dem Conyers endorsed son for his own...  fox   \n",
       "2334  Disgraced Dem Conyers endorsed son for his own...  fox   \n",
       "2362  Disgraced Democrat forced out of House endorse...  fox   \n",
       "\n",
       "                                                    url  \n",
       "142   http://www.foxnews.com/opinion/2018/05/16/tamm...  \n",
       "143   http://www.foxnews.com/opinion/2018/05/17/cal-...  \n",
       "1005  //www.foxnews.com/politics/2018/05/19/gop-pour...  \n",
       "1118  http://www.foxnews.com/entertainment/2018/05/1...  \n",
       "2196  //video.foxnews.com/v/5787444706001/?playlist_...  \n",
       "2242  http://www.foxnews.com/opinion/2018/05/21/todd...  \n",
       "2326  http://www.foxnews.com/politics/2018/05/21/dis...  \n",
       "2334  //www.foxnews.com/politics/2018/05/21/disgrace...  \n",
       "2362  http://www.foxnews.com/politics/2018/05/21/dis...  "
      ]
     },
     "metadata": {},
     "output_type": "display_data"
    },
    {
     "data": {
      "text/plain": [
       "(2764, 3)"
      ]
     },
     "execution_count": 1268,
     "metadata": {},
     "output_type": "execute_result"
    }
   ],
   "source": [
    "# Replace incorrectly-used hyphens with an m-dash\n",
    "display(headlines[headlines.text.str.contains(' [-–] ')])\n",
    "headlines['text'] = headlines.text.str.replace(' [-–] ', ' — ')\n",
    "headlines.drop_duplicates(inplace=True)\n",
    "headlines.shape"
   ]
  },
  {
   "cell_type": "code",
   "execution_count": 1269,
   "metadata": {},
   "outputs": [
    {
     "data": {
      "text/plain": [
       "(2763, 3)"
      ]
     },
     "execution_count": 1269,
     "metadata": {},
     "output_type": "execute_result"
    }
   ],
   "source": [
    "headlines['text'] = headlines.text.str.replace('\\s+', ' ')\n",
    "headlines.drop_duplicates(inplace=True)\n",
    "headlines.shape"
   ]
  },
  {
   "cell_type": "code",
   "execution_count": 1270,
   "metadata": {},
   "outputs": [
    {
     "data": {
      "text/plain": [
       "(2763, 3)"
      ]
     },
     "execution_count": 1270,
     "metadata": {},
     "output_type": "execute_result"
    }
   ],
   "source": [
    "headlines['text'] = headlines['text'].str.strip()\n",
    "headlines.drop_duplicates(inplace=True)\n",
    "headlines.shape"
   ]
  },
  {
   "cell_type": "code",
   "execution_count": 1271,
   "metadata": {},
   "outputs": [
    {
     "data": {
      "text/plain": [
       "{'!',\n",
       " '#',\n",
       " '$',\n",
       " '%',\n",
       " '&',\n",
       " \"'\",\n",
       " '(',\n",
       " ')',\n",
       " '+',\n",
       " ',',\n",
       " '-',\n",
       " '.',\n",
       " ':',\n",
       " ';',\n",
       " '=',\n",
       " '?',\n",
       " '|',\n",
       " 'á',\n",
       " 'í',\n",
       " '—'}"
      ]
     },
     "execution_count": 1271,
     "metadata": {},
     "output_type": "execute_result"
    }
   ],
   "source": [
    "set(re.sub(pattern=f'[{string.ascii_letters}\\s\\d]', repl='', string=' '.join(headlines.text)))"
   ]
  },
  {
   "cell_type": "code",
   "execution_count": 1272,
   "metadata": {},
   "outputs": [
    {
     "data": {
      "text/html": [
       "<div>\n",
       "<style scoped>\n",
       "    .dataframe tbody tr th:only-of-type {\n",
       "        vertical-align: middle;\n",
       "    }\n",
       "\n",
       "    .dataframe tbody tr th {\n",
       "        vertical-align: top;\n",
       "    }\n",
       "\n",
       "    .dataframe thead th {\n",
       "        text-align: right;\n",
       "    }\n",
       "</style>\n",
       "<table border=\"1\" class=\"dataframe\">\n",
       "  <thead>\n",
       "    <tr style=\"text-align: right;\">\n",
       "      <th></th>\n",
       "      <th>text</th>\n",
       "      <th>pub</th>\n",
       "      <th>url</th>\n",
       "    </tr>\n",
       "  </thead>\n",
       "  <tbody>\n",
       "    <tr>\n",
       "      <th>1556</th>\n",
       "      <td>California man wins more than $6 million from ...</td>\n",
       "      <td>fox</td>\n",
       "      <td>//www.foxnews.com/us/2018/05/20/california-man...</td>\n",
       "    </tr>\n",
       "    <tr>\n",
       "      <th>1555</th>\n",
       "      <td>California man wins 4 lottery prizes worth $6M...</td>\n",
       "      <td>fox</td>\n",
       "      <td>http://www.foxnews.com/us/2018/05/20/californi...</td>\n",
       "    </tr>\n",
       "    <tr>\n",
       "      <th>2153</th>\n",
       "      <td>Wrecked $250,000 Ferrari found without a driver</td>\n",
       "      <td>fox</td>\n",
       "      <td>http://video.foxnews.com/v/5787683904001/</td>\n",
       "    </tr>\n",
       "    <tr>\n",
       "      <th>739</th>\n",
       "      <td>Steven Tyler reveals he once hit on Cameron Di...</td>\n",
       "      <td>fox</td>\n",
       "      <td>http://www.foxnews.com/entertainment/2018/05/1...</td>\n",
       "    </tr>\n",
       "    <tr>\n",
       "      <th>98</th>\n",
       "      <td>$800,000 Homes in Missouri, Georgia and Pennsy...</td>\n",
       "      <td>nyt</td>\n",
       "      <td>https://www.nytimes.com/2018/05/16/realestate/...</td>\n",
       "    </tr>\n",
       "  </tbody>\n",
       "</table>\n",
       "</div>"
      ],
      "text/plain": [
       "                                                   text  pub  \\\n",
       "1556  California man wins more than $6 million from ...  fox   \n",
       "1555  California man wins 4 lottery prizes worth $6M...  fox   \n",
       "2153    Wrecked $250,000 Ferrari found without a driver  fox   \n",
       "739   Steven Tyler reveals he once hit on Cameron Di...  fox   \n",
       "98    $800,000 Homes in Missouri, Georgia and Pennsy...  nyt   \n",
       "\n",
       "                                                    url  \n",
       "1556  //www.foxnews.com/us/2018/05/20/california-man...  \n",
       "1555  http://www.foxnews.com/us/2018/05/20/californi...  \n",
       "2153          http://video.foxnews.com/v/5787683904001/  \n",
       "739   http://www.foxnews.com/entertainment/2018/05/1...  \n",
       "98    https://www.nytimes.com/2018/05/16/realestate/...  "
      ]
     },
     "metadata": {},
     "output_type": "display_data"
    },
    {
     "data": {
      "text/plain": [
       "(43, 3)"
      ]
     },
     "execution_count": 1272,
     "metadata": {},
     "output_type": "execute_result"
    }
   ],
   "source": [
    "# References to money\n",
    "display(headlines[headlines.text.str.contains('\\$')].sample(5))\n",
    "headlines[headlines.text.str.contains('\\$')].shape"
   ]
  },
  {
   "cell_type": "code",
   "execution_count": 1273,
   "metadata": {},
   "outputs": [
    {
     "data": {
      "text/plain": [
       "array([[\"It's the 50th anniversary of the day Trump left college and (briefly) faced the draft\",\n",
       "        'wapo',\n",
       "        'https://www.washingtonpost.com/news/retropolis/wp/2018/05/20/its-the-50th-anniversary-of-the-day-trump-left-college-and-nearly-had-to-go-to-war/'],\n",
       "       ['Lawyers for Michael Cohen and Stormy Daniels Sling More (Legal) Mud',\n",
       "        'nyt',\n",
       "        'https://www.nytimes.com/2018/05/18/nyregion/michael-cohen-stormy-daniels-legal-fight.html'],\n",
       "       ['Bitcoin Goes Mainstream (in a Hilton Ballroom)', 'nyt',\n",
       "        'https://www.nytimes.com/2018/05/18/technology/consensus-bitcoin-conference-photos.html'],\n",
       "       ['We dropped $18,000 worth of phones, and these are the toughest (and weakest)',\n",
       "        'fox',\n",
       "        '//www.foxnews.com/tech/2018/05/21/dropped-18000-worth-phones-and-these-are-toughest-and-weakest.html'],\n",
       "       ['Step-by-step | How to decorate a layer cake (like a royal)',\n",
       "        'wapo',\n",
       "        'http://www.washingtonpost.com/graphics/2018/voraciously/amp-stories/decorating-a-layer-cake-like-a-royal-step-by-step/']],\n",
       "      dtype=object)"
      ]
     },
     "metadata": {},
     "output_type": "display_data"
    },
    {
     "data": {
      "text/plain": [
       "(21, 3)"
      ]
     },
     "execution_count": 1273,
     "metadata": {},
     "output_type": "execute_result"
    }
   ],
   "source": [
    "# Parentheticals\n",
    "display(headlines[headlines.text.str.contains('\\(')].sample(5).values)\n",
    "headlines[headlines.text.str.contains('\\(')].shape"
   ]
  },
  {
   "cell_type": "code",
   "execution_count": 1274,
   "metadata": {},
   "outputs": [
    {
     "data": {
      "text/plain": [
       "array([['Smug Seattle to mom and pop landlords: Criminals are welcome! Your rights not so much',\n",
       "        'fox',\n",
       "        '//www.foxnews.com/opinion/2018/05/21/smug-seattle-to-mom-and-pop-landlords-criminals-are-welcome-your-rights-not-so-much.html'],\n",
       "       ['Here comes the bride! Meghan, Harry arrive', 'fox',\n",
       "        'http://www.foxnews.com/entertainment/2018/05/19/meghan-markle-prince-harrys-royal-wedding-guests-begin-arriving-couples-new-titles-revealed.html'],\n",
       "       [\"15-foot great white shark shocks scuba divers above Florida Keys shipwreck: 'Get on the boat!'\",\n",
       "        'fox',\n",
       "        'http://www.foxnews.com/science/2018/05/21/15-foot-great-white-shark-shocks-scuba-divers-above-florida-keys-shipwreck-get-on-boat.html'],\n",
       "       [\"Trump Says Russia Inquiry's Overreach Is a Scandal 'Bigger Than Watergate!'\",\n",
       "        'nyt',\n",
       "        'https://www.nytimes.com/2018/05/17/us/politics/trump-watergate-russia-investigation.html'],\n",
       "       [\"'My next call is to ICE!': Man's rant against workers who spoke Spanish at a Manhattan deli caught on camera\",\n",
       "        'wapo',\n",
       "        'https://www.washingtonpost.com/news/business/wp/2018/05/16/my-next-call-is-to-ice-watch-a-man-wig-out-because-workers-spoke-spanish-at-a-manhattan-deli/']],\n",
       "      dtype=object)"
      ]
     },
     "metadata": {},
     "output_type": "display_data"
    },
    {
     "data": {
      "text/plain": [
       "(12, 3)"
      ]
     },
     "execution_count": 1274,
     "metadata": {},
     "output_type": "execute_result"
    }
   ],
   "source": [
    "# Excalamations\n",
    "display(headlines[headlines.text.str.contains('!')].sample(5).values)\n",
    "headlines[headlines.text.str.contains('!')].shape"
   ]
  },
  {
   "cell_type": "markdown",
   "metadata": {},
   "source": [
    "***Visualizations:***"
   ]
  },
  {
   "cell_type": "code",
   "execution_count": 1276,
   "metadata": {},
   "outputs": [
    {
     "data": {
      "image/png": "[encoded data removed]",
      "text/plain": [
       "<Figure size 432x288 with 1 Axes>"
      ]
     },
     "metadata": {},
     "output_type": "display_data"
    }
   ],
   "source": [
    "ax = headlines.groupby('pub').apply(lambda grp: grp['text'].unique().shape[0])[['nyt', 'fox', 'wapo']].plot(kind='bar', title='Count unique headlines by pub')\n",
    "ax.set(ylabel='count')\n",
    "[tick.set_rotation(0) for tick in ax.get_xticklabels()]\n",
    "plt.tight_layout()"
   ]
  },
  {
   "cell_type": "code",
   "execution_count": 1277,
   "metadata": {},
   "outputs": [
    {
     "data": {
      "image/png": "[encoded data removed]",
      "text/plain": [
       "<Figure size 432x288 with 1 Axes>"
      ]
     },
     "metadata": {},
     "output_type": "display_data"
    }
   ],
   "source": [
    "ax = headlines.groupby('pub').apply(lambda grp: grp['url'].unique().shape[0])[['nyt', 'fox', 'wapo']].plot(kind='bar', title='Count unique headlines by pub')\n",
    "ax.set(ylabel='count')\n",
    "[tick.set_rotation(0) for tick in ax.get_xticklabels()]\n",
    "plt.tight_layout()"
   ]
  },
  {
   "cell_type": "code",
   "execution_count": 1279,
   "metadata": {},
   "outputs": [
    {
     "data": {
      "text/plain": [
       "pub\n",
       "fox     1.073657\n",
       "nyt     1.506726\n",
       "wapo    1.379061\n",
       "dtype: float64"
      ]
     },
     "execution_count": 1279,
     "metadata": {},
     "output_type": "execute_result"
    }
   ],
   "source": [
    "ct_headlines = headlines.groupby('pub').apply(lambda grp: grp['text'].unique().shape[0])\n",
    "ct_urls = headlines.groupby('pub').apply(lambda grp: grp['url'].unique().shape[0])\n",
    "ct_headlines / ct_urls"
   ]
  },
  {
   "cell_type": "markdown",
   "metadata": {},
   "source": [
    "Does Fox have this many real headlines, or do they just swap out headlines more often? Interestingly, Fox actually has _fewer_ headlines per URL, suggesting that WaPo and NYT change headlines mid-publication more often."
   ]
  },
  {
   "cell_type": "code",
   "execution_count": null,
   "metadata": {},
   "outputs": [],
   "source": [
    "ax = headlines['pub'].value_counts()[['nyt', 'fox', 'wapo']].plot(kind='bar', title='Count unique headlines by pub')\n",
    "ax.set(ylabel='count')\n",
    "[tick.set_rotation(0) for tick in ax.get_xticklabels()]\n",
    "plt.tight_layout()"
   ]
  },
  {
   "cell_type": "markdown",
   "metadata": {},
   "source": [
    "Headline length:\n",
    "\n",
    "WaPo tends to have longer headlines, but only because they have more words (rather than using longer words)."
   ]
  },
  {
   "cell_type": "code",
   "execution_count": 1101,
   "metadata": {},
   "outputs": [],
   "source": [
    "headlines['len_words'] = headlines['text'].str.split('\\s').apply(len)\n",
    "headlines['len_chars'] = headlines['text'].apply(len)\n",
    "headlines['len_avg_word'] = headlines['text'].str.replace(f'[{string.punctuation}]' , '').str.split('\\s').apply(lambda l: sum(map(len, l)) / len(l))"
   ]
  },
  {
   "cell_type": "code",
   "execution_count": 1215,
   "metadata": {},
   "outputs": [
    {
     "data": {
      "image/png": "[encoded data removed]",
      "text/plain": [
       "<Figure size 720x360 with 1 Axes>"
      ]
     },
     "metadata": {},
     "output_type": "display_data"
    }
   ],
   "source": [
    "sns.distplot(headlines.loc[headlines['pub']=='nyt', 'len_words'], label='nyt', hist=False, kde_kws={'shade': True})\n",
    "sns.distplot(headlines.loc[headlines['pub']=='fox', 'len_words'], label='fox', hist=False, kde_kws={'shade': True})\n",
    "ax = sns.distplot(headlines.loc[headlines['pub']=='wapo', 'len_words'], label='wapo', hist=False, kde_kws={'shade': True})\n",
    "\n",
    "ax.axvline(headlines.loc[headlines['pub']=='nyt', 'len_words'].mean(), color='blue')\n",
    "ax.axvline(headlines.loc[headlines['pub']=='fox', 'len_words'].mean(), color='green')\n",
    "ax.axvline(headlines.loc[headlines['pub']=='wapo', 'len_words'].mean(), color='red')\n",
    "\n",
    "ax.legend()\n",
    "ax.axes.get_yaxis().set_ticks([])\n",
    "ax.set(title='headline length in words by publication', ylabel='density')\n",
    "ax.figure.set_size_inches((10,5))\n",
    "plt.tight_layout()"
   ]
  },
  {
   "cell_type": "code",
   "execution_count": 1108,
   "metadata": {},
   "outputs": [
    {
     "name": "stdout",
     "output_type": "stream",
     "text": [
      "Examples of headlines with many words:\n",
      "['Woman who helped concoct fake story about Muslim men groping women at German bar found dead'\n",
      " 'Two sons of Rev. Moon have split from his church — and their followers are armed'\n",
      " \"Critic's Notebook: On That 'Barry' Finale and Why Some Shows Are So Good, They Need to End\"\n",
      " \"Once Hated by U.S. and Tied to Iran, Is Sadr Now 'Face of Reform' in Iraq?\"\n",
      " 'The truth is out there: The real story of Area 51 may be weirder than the science fiction']\n",
      "\n",
      "Examples of headlines with average words:\n",
      "[\"A father's secret wish for mothers that get little credit\"\n",
      " 'D.C. United shakes Earthquakes with early goals in 3-1 victory'\n",
      " 'Judge in Stanford rape case is subject of recall vote'\n",
      " 'Bernard Lewis, Influential Scholar of Islam, Is Dead at 101'\n",
      " \"Texans defensive end J.J. Watt to pay for victims' funerals\"]\n",
      "\n",
      "Examples of headlines with few words:\n",
      "['Mortgage Calculator' \"Venezuela's sham election\" 'Death of a Biohacker'\n",
      " 'Trump demands DOJ probe' 'The Royal Wedding']\n"
     ]
    }
   ],
   "source": [
    "print('Examples of headlines with many words:')\n",
    "print(headlines.loc[headlines['len_words'] > 15, 'text'].sample(5).values)\n",
    "\n",
    "print()\n",
    "print('Examples of headlines with average words:')\n",
    "print(headlines.loc[headlines['len_words'] == 10, 'text'].sample(5).head().values)\n",
    "\n",
    "print()\n",
    "print('Examples of headlines with few words:')\n",
    "print(headlines.loc[headlines['len_words'] < 5, 'text'].sample(5).head().values)"
   ]
  },
  {
   "cell_type": "code",
   "execution_count": 1103,
   "metadata": {},
   "outputs": [
    {
     "data": {
      "image/png": "[encoded data removed]",
      "text/plain": [
       "<Figure size 720x360 with 1 Axes>"
      ]
     },
     "metadata": {},
     "output_type": "display_data"
    }
   ],
   "source": [
    "sns.distplot(headlines.loc[headlines['pub']=='nyt', 'len_chars'], label='nyt', hist=False, kde_kws={'shade': True})\n",
    "sns.distplot(headlines.loc[headlines['pub']=='fox', 'len_chars'], label='fox', hist=False, kde_kws={'shade': True})\n",
    "ax = sns.distplot(headlines.loc[headlines['pub']=='wapo', 'len_chars'], label='wapo', hist=False, kde_kws={'shade': True})\n",
    "\n",
    "ax.axvline(headlines.loc[headlines['pub']=='nyt', 'len_chars'].mean(), color='blue')\n",
    "ax.axvline(headlines.loc[headlines['pub']=='fox', 'len_chars'].mean(), color='green')\n",
    "ax.axvline(headlines.loc[headlines['pub']=='wapo', 'len_chars'].mean(), color='red')\n",
    "\n",
    "ax.legend()\n",
    "ax.axes.get_yaxis().set_ticks([])\n",
    "ax.set(title='headline length in chars by publication', ylabel='density')\n",
    "ax.figure.set_size_inches((10,5))\n",
    "plt.tight_layout()"
   ]
  },
  {
   "cell_type": "code",
   "execution_count": 1109,
   "metadata": {},
   "outputs": [
    {
     "name": "stdout",
     "output_type": "stream",
     "text": [
      "Examples of headlines with many chars:\n",
      "['MUST SEE: Nail salon worker jumps onto moving car to stop customer from leaving without paying her bill'\n",
      " \"At Texas vigil, another school mourns another mass shooting: 'It is hope in the face of tragedy that brings us together today'\"\n",
      " \"HBO star Shannon Woodward makes shocking return to 'Westworld' after storming social media with anti-Trump insults\"\n",
      " \"Meghan Markle, Prince Harry's royal wedding: Groom arrives with brother Prince William, waves to crowds\"\n",
      " 'Cops focus on teen boy previously caught with Pennsylvania teacher in steamed-up car in murder investigation']\n",
      "\n",
      "Examples of headlines with average chars:\n",
      "[\"Don't let the Trump administration derail criminal-justice reform\"\n",
      " 'Heisman winner Manziel signs, will play with new team this summer'\n",
      " 'Camping without the hassle: Rent the gear you need — even the car'\n",
      " 'Loose Ends: The Only Houseplants You Can Be Trusted With: A Guide'\n",
      " 'Trump will nominate the acting secretary to head Veterans Affairs']\n",
      "\n",
      "Examples of headlines with few chars:\n",
      "['Mortgage Calculator' 'The Royal Wedding' 'Enough Is Enough'\n",
      " \"It's Spring, Right?\" 'A.I. Is Hard']\n"
     ]
    }
   ],
   "source": [
    "print('Examples of headlines with many chars:')\n",
    "print(headlines.loc[headlines['len_chars'] > 100, 'text'].sample(5).values)\n",
    "\n",
    "print()\n",
    "print('Examples of headlines with average chars:')\n",
    "print(headlines.loc[headlines['len_chars'] == 65, 'text'].sample(5).head().values)\n",
    "\n",
    "print()\n",
    "print('Examples of headlines with few chars:')\n",
    "print(headlines.loc[headlines['len_chars'] < 20, 'text'].sample(5).head().values)"
   ]
  },
  {
   "cell_type": "code",
   "execution_count": 1113,
   "metadata": {},
   "outputs": [
    {
     "data": {
      "text/plain": [
       "array([['A.I. Is Hard', 'nyt', 3, 12, 2.6666666666666665]], dtype=object)"
      ]
     },
     "execution_count": 1113,
     "metadata": {},
     "output_type": "execute_result"
    }
   ],
   "source": [
    "headlines[headlines['len_chars'] == headlines['len_chars'].min()].values"
   ]
  },
  {
   "cell_type": "code",
   "execution_count": 1112,
   "metadata": {},
   "outputs": [
    {
     "data": {
      "text/plain": [
       "array([['Prisons are allowing mothers to raise their babies behind bars. But is the radical experiment in parenting and punishment a good idea?',\n",
       "        'wapo', 22, 134, 5.045454545454546]], dtype=object)"
      ]
     },
     "execution_count": 1112,
     "metadata": {},
     "output_type": "execute_result"
    }
   ],
   "source": [
    "headlines[headlines['len_chars'] == headlines['len_chars'].max()].values"
   ]
  },
  {
   "cell_type": "code",
   "execution_count": 1104,
   "metadata": {},
   "outputs": [
    {
     "data": {
      "image/png": "[encoded data removed]",
      "text/plain": [
       "<Figure size 720x360 with 1 Axes>"
      ]
     },
     "metadata": {},
     "output_type": "display_data"
    }
   ],
   "source": [
    "sns.distplot(headlines.loc[headlines['pub']=='nyt', 'len_avg_word'], label='nyt', hist=False, kde_kws={'shade': True})\n",
    "sns.distplot(headlines.loc[headlines['pub']=='fox', 'len_avg_word'], label='fox', hist=False, kde_kws={'shade': True})\n",
    "ax = sns.distplot(headlines.loc[headlines['pub']=='wapo', 'len_avg_word'], label='wapo', hist=False, kde_kws={'shade': True})\n",
    "\n",
    "ax.axvline(headlines.loc[headlines['pub']=='nyt', 'len_avg_word'].mean(), color='blue')\n",
    "ax.axvline(headlines.loc[headlines['pub']=='fox', 'len_avg_word'].mean(), color='green')\n",
    "ax.axvline(headlines.loc[headlines['pub']=='wapo', 'len_avg_word'].mean(), color='red')\n",
    "\n",
    "ax.legend()\n",
    "ax.axes.get_yaxis().set_ticks([])\n",
    "ax.set(title='avg word length by publication', ylabel='density')\n",
    "ax.figure.set_size_inches((10,5))\n",
    "plt.tight_layout()"
   ]
  },
  {
   "cell_type": "code",
   "execution_count": 1114,
   "metadata": {},
   "outputs": [
    {
     "name": "stdout",
     "output_type": "stream",
     "text": [
      "Examples of headlines with long avg word length:\n",
      "['State regulators unveil nationwide crackdown on suspicious cryptocurrency investment schemes'\n",
      " 'Progressive Democrats outperforming moderates in primaries'\n",
      " 'Mortgage Calculator' 'Monarchy Meets African-American Experience'\n",
      " \"Researchers answer long-running rumors surrounding Hitler's death\"]\n",
      "\n",
      "Examples of headlines with avg avg word length:\n",
      "[\"Meghan Markle, Prince Harry marry at St. George's Chapel\"\n",
      " 'Trump pushes for prison reform bill'\n",
      " 'Prince Charles Walks a Radiant Meghan Markle Down the Aisle'\n",
      " 'T.J. Oshie, Braden Holtby carry Capitals to Game 7 against Lightning'\n",
      " 'Fans at the Royal Wedding, and Their Accessories']\n",
      "\n",
      "Examples of headlines with short avg word length:\n",
      "['A Staten Island Man Found a Safe of Cash in His Backyard. Then Things Got Weird.'\n",
      " 'Why the GOP needs someone — anyone — to challenge Trump in 2020'\n",
      " 'Hawaii lava flow ramps up as new magma mixes with old'\n",
      " 'Veteran: I had five hour wait at VA last week'\n",
      " 'How a Digital Rabbit Hole Gave a 1983 Album a New Life']\n"
     ]
    }
   ],
   "source": [
    "print('Examples of headlines with long avg word length:')\n",
    "print(headlines.loc[headlines['len_avg_word'] > 8, 'text'].sample(5).values)\n",
    "\n",
    "print()\n",
    "print('Examples of headlines with avg avg word length:')\n",
    "print(headlines.loc[headlines['len_avg_word'] == 5, 'text'].sample(5).values)\n",
    "\n",
    "print()\n",
    "print('Examples of headlines with short avg word length:')\n",
    "print(headlines.loc[headlines['len_avg_word'] < 4, 'text'].sample(5).head().values)"
   ]
  },
  {
   "cell_type": "code",
   "execution_count": 1117,
   "metadata": {},
   "outputs": [
    {
     "name": "stdout",
     "output_type": "stream",
     "text": [
      "Ten random headlines:\n"
     ]
    },
    {
     "data": {
      "text/plain": [
       "['Controversial armored police vehicle factory expands production to meet demand',\n",
       " 'The Latest: Hawaii lava flow may cross highway within hours',\n",
       " 'T.J. Oshie, Braden Holtby carry Capitals to Game 7 against Lightning',\n",
       " \"Woman claims Mario Batali drugged, sexually assaulted her inside NYC restaurant's 'rape room'; NYPD investigating allegations\",\n",
       " \"'World's most expensive Witch Hunt': Trump lashes out at New York Times, Democrats\",\n",
       " 'What to Pack in Your New York City Survival Kit',\n",
       " 'Venezuelan President Nicolás Maduro wins reelection amid charges of irregularities',\n",
       " 'Lawmakers are nudging Twitter CEO Jack Dorsey to testify before Congress on privacy',\n",
       " 'Baby hit by softball opening eyes, moving legs',\n",
       " 'Crisis-weary Venezuelans are voting in election decried as a Maduro power grab']"
      ]
     },
     "execution_count": 1117,
     "metadata": {},
     "output_type": "execute_result"
    }
   ],
   "source": [
    "print('Ten random headlines:')\n",
    "headlines.sample(10, random_state=0)['text'].values.tolist()"
   ]
  },
  {
   "cell_type": "markdown",
   "metadata": {},
   "source": [
    "***Play with NLTK and TextBlob:***"
   ]
  },
  {
   "cell_type": "code",
   "execution_count": 1193,
   "metadata": {},
   "outputs": [
    {
     "data": {
      "text/plain": [
       "<Text: As China Plans Big Concessions on Trade, Some...>"
      ]
     },
     "metadata": {},
     "output_type": "display_data"
    },
    {
     "data": {
      "text/plain": [
       "TextBlob(\"As China P\")"
      ]
     },
     "execution_count": 1193,
     "metadata": {},
     "output_type": "execute_result"
    }
   ],
   "source": [
    "from nltk import Text\n",
    "from textblob import TextBlob\n",
    "\n",
    "txt = Text('. '.join(headlines['text']).split())\n",
    "display(txt)\n",
    "\n",
    "blob = TextBlob('. '.join(headlines['text']))\n",
    "blob[:10]"
   ]
  },
  {
   "cell_type": "code",
   "execution_count": 1221,
   "metadata": {},
   "outputs": [
    {
     "name": "stdout",
     "output_type": "stream",
     "text": [
      "Meghan Markle; Prince Harry; Meghan Markle,; school shooting; Prince\n",
      "Harry's; Meghan Markle's; royal wedding; Markle, Prince; NBA\n",
      "playoffs:; royal wedding.; high school; Texas school; White House; New\n",
      "York; Naval Academy; Royal Wedding; Lightning-Capitals Game; North\n",
      "Korea; Academy freshmen; school shooting.\n"
     ]
    }
   ],
   "source": [
    "txt.collocations()"
   ]
  },
  {
   "cell_type": "code",
   "execution_count": 1237,
   "metadata": {},
   "outputs": [
    {
     "name": "stdout",
     "output_type": "stream",
     "text": [
      "NOT REAL NEWS: False comments attributed to Zimbabwe leader\n"
     ]
    },
    {
     "data": {
      "text/plain": [
       "['NOT',\n",
       " 'REAL',\n",
       " 'NEWS',\n",
       " ':',\n",
       " 'False',\n",
       " 'comments',\n",
       " 'attributed',\n",
       " 'to',\n",
       " 'Zimbabwe',\n",
       " 'leader']"
      ]
     },
     "execution_count": 1237,
     "metadata": {},
     "output_type": "execute_result"
    }
   ],
   "source": [
    "from nltk.tokenize import RegexpTokenizer\n",
    "tokenizer = RegexpTokenizer('\\w+|\\$[\\d\\.]+|\\S+')\n",
    "b\n",
    "ex = headlines.text.sample(random_state=3).values[0]\n",
    "print(ex)\n",
    "tokenizer.tokenize(ex)"
   ]
  },
  {
   "cell_type": "code",
   "execution_count": 1241,
   "metadata": {},
   "outputs": [
    {
     "data": {
      "text/plain": [
       "1142          poses\n",
       "1044            ohr\n",
       "1000    negotiating\n",
       "1121        planned\n",
       "1212         reagan\n",
       "dtype: object"
      ]
     },
     "execution_count": 1241,
     "metadata": {},
     "output_type": "execute_result"
    }
   ],
   "source": [
    "# from https://www.nltk.org/book/ch02.html#wordlist-corpora\n",
    "def unusual_words(text):\n",
    "    text_vocab = set(w.lower() for w in text if w.isalpha())\n",
    "    english_vocab = set(w.lower() for w in nltk.corpus.words.words())\n",
    "    unusual = text_vocab - english_vocab\n",
    "    return sorted(unusual)\n",
    "\n",
    "pd.Series(unusual_words(txt)).sample(5, random_state=0)"
   ]
  },
  {
   "cell_type": "code",
   "execution_count": 1246,
   "metadata": {},
   "outputs": [
    {
     "name": "stdout",
     "output_type": "stream",
     "text": [
      "False\n",
      "True\n"
     ]
    }
   ],
   "source": [
    "print('abortions' in nltk.corpus.words.words())\n",
    "print('abortion' in nltk.corpus.words.words())"
   ]
  },
  {
   "cell_type": "code",
   "execution_count": 1247,
   "metadata": {},
   "outputs": [
    {
     "data": {
      "text/plain": [
       "0.7330637724338511"
      ]
     },
     "execution_count": 1247,
     "metadata": {},
     "output_type": "execute_result"
    }
   ],
   "source": [
    "def content_fraction(text):\n",
    "    stopwords = nltk.corpus.stopwords.words('english')\n",
    "    content = [w for w in text if w.lower() not in stopwords]\n",
    "    return len(content) / len(text)\n",
    "\n",
    "content_fraction(txt)"
   ]
  },
  {
   "cell_type": "code",
   "execution_count": 1253,
   "metadata": {},
   "outputs": [
    {
     "data": {
      "image/png": "[encoded data removed]",
      "text/plain": [
       "<Figure size 432x288 with 1 Axes>"
      ]
     },
     "metadata": {},
     "output_type": "display_data"
    }
   ],
   "source": [
    "headlines.groupby('pub').apply(lambda grp: content_fraction(Text(' '.join(grp['text']).split())))[['nyt', 'fox', 'wapo']].plot(kind='bar', title='content fraction by publication')\n",
    "plt.tight_layout()"
   ]
  },
  {
   "cell_type": "code",
   "execution_count": 1238,
   "metadata": {},
   "outputs": [
    {
     "data": {
      "text/plain": [
       "[('NOT', 'NNP'),\n",
       " ('REAL', 'NNP'),\n",
       " ('NEWS', 'NNP'),\n",
       " (':', ':'),\n",
       " ('False', 'JJ'),\n",
       " ('comments', 'NNS'),\n",
       " ('attributed', 'VBD'),\n",
       " ('to', 'TO'),\n",
       " ('Zimbabwe', 'NNP'),\n",
       " ('leader', 'NN')]"
      ]
     },
     "execution_count": 1238,
     "metadata": {},
     "output_type": "execute_result"
    }
   ],
   "source": [
    "from nltk import pos_tag\n",
    "\n",
    "pos_tag(tokenizer.tokenize(ex))"
   ]
  },
  {
   "cell_type": "code",
   "execution_count": 1216,
   "metadata": {},
   "outputs": [
    {
     "data": {
      "image/png": "[encoded data removed]",
      "text/plain": [
       "<Figure size 432x288 with 1 Axes>"
      ]
     },
     "metadata": {},
     "output_type": "display_data"
    }
   ],
   "source": [
    "vocab = headlines.groupby('pub').apply(lambda grp: len(set(' '.join(grp['text']).split())))[['nyt', 'fox', 'wapo']]\n",
    "ax = vocab.plot(title='vocabulary size by publication', kind='bar')\n",
    "[tick.set_rotation(0) for tick in ax.get_xticklabels()]\n",
    "ax.set(ylabel='unique words')\n",
    "plt.tight_layout()"
   ]
  },
  {
   "cell_type": "code",
   "execution_count": 1254,
   "metadata": {},
   "outputs": [
    {
     "data": {
      "text/plain": [
       "<matplotlib.axes._subplots.AxesSubplot at 0x1c908c97b70>"
      ]
     },
     "execution_count": 1254,
     "metadata": {},
     "output_type": "execute_result"
    },
    {
     "data": {
      "image/png": "[encoded data removed]",
      "text/plain": [
       "<Figure size 432x288 with 1 Axes>"
      ]
     },
     "metadata": {},
     "output_type": "display_data"
    }
   ],
   "source": [
    "(vocab / headlines.groupby('pub').count()['text'])[['nyt', 'fox', 'wapo']].plot(title='unique words per document by publication', kind='bar')"
   ]
  },
  {
   "cell_type": "markdown",
   "metadata": {},
   "source": [
    "Fox has a larger overall vocabulary, but only because it publishes more headlines in general. WaPo has the most diverse vocabulary on a per-headline basis because they tend to use more words."
   ]
  },
  {
   "cell_type": "code",
   "execution_count": 1133,
   "metadata": {},
   "outputs": [
    {
     "data": {
      "text/plain": [
       "245"
      ]
     },
     "execution_count": 1133,
     "metadata": {},
     "output_type": "execute_result"
    }
   ],
   "source": [
    "txt.count('Trump')"
   ]
  },
  {
   "cell_type": "code",
   "execution_count": 1134,
   "metadata": {},
   "outputs": [
    {
     "data": {
      "text/plain": [
       "31"
      ]
     },
     "execution_count": 1134,
     "metadata": {},
     "output_type": "execute_result"
    }
   ],
   "source": [
    "txt.count('Mueller')"
   ]
  },
  {
   "cell_type": "code",
   "execution_count": 1135,
   "metadata": {},
   "outputs": [
    {
     "data": {
      "text/plain": [
       "14"
      ]
     },
     "execution_count": 1135,
     "metadata": {},
     "output_type": "execute_result"
    }
   ],
   "source": [
    "txt.count('America')"
   ]
  },
  {
   "cell_type": "code",
   "execution_count": 1142,
   "metadata": {},
   "outputs": [
    {
     "data": {
      "text/plain": [
       "93"
      ]
     },
     "execution_count": 1142,
     "metadata": {},
     "output_type": "execute_result"
    }
   ],
   "source": [
    "txt.count('wedding')"
   ]
  },
  {
   "cell_type": "code",
   "execution_count": 1143,
   "metadata": {},
   "outputs": [
    {
     "data": {
      "text/plain": [
       "535"
      ]
     },
     "execution_count": 1143,
     "metadata": {},
     "output_type": "execute_result"
    }
   ],
   "source": [
    "txt.count('the')"
   ]
  },
  {
   "cell_type": "code",
   "execution_count": 1144,
   "metadata": {},
   "outputs": [
    {
     "data": {
      "text/plain": [
       "42"
      ]
     },
     "execution_count": 1144,
     "metadata": {},
     "output_type": "execute_result"
    }
   ],
   "source": [
    "txt.count('an')"
   ]
  },
  {
   "cell_type": "code",
   "execution_count": 1145,
   "metadata": {},
   "outputs": [
    {
     "data": {
      "text/plain": [
       "331"
      ]
     },
     "execution_count": 1145,
     "metadata": {},
     "output_type": "execute_result"
    }
   ],
   "source": [
    "txt.count('a')"
   ]
  },
  {
   "cell_type": "code",
   "execution_count": 1146,
   "metadata": {},
   "outputs": [
    {
     "data": {
      "text/plain": [
       "469"
      ]
     },
     "execution_count": 1146,
     "metadata": {},
     "output_type": "execute_result"
    }
   ],
   "source": [
    "txt.count('of')"
   ]
  },
  {
   "cell_type": "code",
   "execution_count": 1147,
   "metadata": {},
   "outputs": [
    {
     "data": {
      "text/plain": [
       "82"
      ]
     },
     "execution_count": 1147,
     "metadata": {},
     "output_type": "execute_result"
    }
   ],
   "source": [
    "txt.count('by')"
   ]
  },
  {
   "cell_type": "code",
   "execution_count": 1148,
   "metadata": {},
   "outputs": [
    {
     "data": {
      "text/plain": [
       "173"
      ]
     },
     "execution_count": 1148,
     "metadata": {},
     "output_type": "execute_result"
    }
   ],
   "source": [
    "txt.count('with')"
   ]
  },
  {
   "cell_type": "code",
   "execution_count": 1157,
   "metadata": {},
   "outputs": [
    {
     "data": {
      "text/plain": [
       "28194"
      ]
     },
     "execution_count": 1157,
     "metadata": {},
     "output_type": "execute_result"
    }
   ],
   "source": [
    "len(txt)"
   ]
  },
  {
   "cell_type": "code",
   "execution_count": 1166,
   "metadata": {},
   "outputs": [
    {
     "name": "stdout",
     "output_type": "stream",
     "text": [
      "his u.s. watch entire russia long alleged resume yanny likely gop's go\n",
      "official football point surveilled 'westworld'\n"
     ]
    }
   ],
   "source": [
    "txt.similar('Trump')"
   ]
  },
  {
   "cell_type": "code",
   "execution_count": 1176,
   "metadata": {},
   "outputs": [
    {
     "name": "stdout",
     "output_type": "stream",
     "text": [
      "the_inquiry\n"
     ]
    }
   ],
   "source": [
    "txt.common_contexts(['Trump', 'Russia'])"
   ]
  },
  {
   "cell_type": "code",
   "execution_count": 1177,
   "metadata": {},
   "outputs": [
    {
     "name": "stdout",
     "output_type": "stream",
     "text": [
      "russia mueller's fbi\n"
     ]
    }
   ],
   "source": [
    "txt.similar('Mueller')"
   ]
  },
  {
   "cell_type": "code",
   "execution_count": 1178,
   "metadata": {},
   "outputs": [
    {
     "name": "stdout",
     "output_type": "stream",
     "text": [
      "the_probe\n"
     ]
    }
   ],
   "source": [
    "txt.common_contexts(['Mueller', 'Russia'])"
   ]
  },
  {
   "cell_type": "markdown",
   "metadata": {},
   "source": [
    "WordNet:"
   ]
  },
  {
   "cell_type": "code",
   "execution_count": 1287,
   "metadata": {},
   "outputs": [
    {
     "data": {
      "text/plain": [
       "[Synset('car.n.01'),\n",
       " Synset('car.n.02'),\n",
       " Synset('car.n.03'),\n",
       " Synset('car.n.04'),\n",
       " Synset('cable_car.n.01')]"
      ]
     },
     "execution_count": 1287,
     "metadata": {},
     "output_type": "execute_result"
    }
   ],
   "source": [
    "from nltk.corpus import wordnet as wn\n",
    "\n",
    "car = wn.synsets('car')\n",
    "car"
   ]
  },
  {
   "cell_type": "code",
   "execution_count": 1303,
   "metadata": {},
   "outputs": [
    {
     "data": {
      "text/plain": [
       "[Synset('motor_vehicle.n.01')]"
      ]
     },
     "execution_count": 1303,
     "metadata": {},
     "output_type": "execute_result"
    }
   ],
   "source": [
    "first = car[0]\n",
    "first.hypernyms()"
   ]
  },
  {
   "cell_type": "code",
   "execution_count": 1306,
   "metadata": {},
   "outputs": [
    {
     "data": {
      "text/plain": [
       "'NOT REAL NEWS: False comments attributed to Zimbabwe leader'"
      ]
     },
     "execution_count": 1306,
     "metadata": {},
     "output_type": "execute_result"
    }
   ],
   "source": [
    "ex"
   ]
  },
  {
   "cell_type": "code",
   "execution_count": 1313,
   "metadata": {},
   "outputs": [
    {
     "data": {
      "text/plain": [
       "[Synset('news.n.01'),\n",
       " Synset('news.n.02'),\n",
       " Synset('news_program.n.01'),\n",
       " Synset('news.n.04'),\n",
       " Synset('newsworthiness.n.01')]"
      ]
     },
     "execution_count": 1313,
     "metadata": {},
     "output_type": "execute_result"
    }
   ],
   "source": [
    "wn.synsets('NEWS')"
   ]
  },
  {
   "cell_type": "code",
   "execution_count": 1319,
   "metadata": {},
   "outputs": [
    {
     "data": {
      "text/plain": [
       "'NOT REAL NEWS: False comments attributed to Zimbabwe leader'"
      ]
     },
     "execution_count": 1319,
     "metadata": {},
     "output_type": "execute_result"
    }
   ],
   "source": [
    "ex"
   ]
  },
  {
   "cell_type": "code",
   "execution_count": 1334,
   "metadata": {},
   "outputs": [
    {
     "data": {
      "text/plain": [
       "'hello'"
      ]
     },
     "execution_count": 1334,
     "metadata": {},
     "output_type": "execute_result"
    }
   ],
   "source": [
    "ex_synset = wn.synsets('hello')[0]\n",
    "ex_synset.name()[:ex_synset.name().find('.')]"
   ]
  },
  {
   "cell_type": "code",
   "execution_count": 1336,
   "metadata": {},
   "outputs": [
    {
     "data": {
      "text/plain": [
       "['hello', 'hullo', 'hi', 'howdy', 'how-do-you-do']"
      ]
     },
     "execution_count": 1336,
     "metadata": {},
     "output_type": "execute_result"
    }
   ],
   "source": [
    "ex_synset.lemma_names()"
   ]
  },
  {
   "cell_type": "code",
   "execution_count": 1335,
   "metadata": {},
   "outputs": [
    {
     "data": {
      "text/plain": [
       "['not',\n",
       " 'real_number',\n",
       " 'news',\n",
       " 'false',\n",
       " 'remark',\n",
       " 'impute',\n",
       " None,\n",
       " 'zimbabwe',\n",
       " 'leader']"
      ]
     },
     "execution_count": 1335,
     "metadata": {},
     "output_type": "execute_result"
    }
   ],
   "source": [
    "list(map(lambda w: wn.synsets(w)[0].name()[:wn.synsets(w)[0].name().find('.')] if len(wn.synsets(w)) else None, re.sub(pattern=f'[{string.punctuation}]', repl='', string=ex).split()))"
   ]
  },
  {
   "cell_type": "markdown",
   "metadata": {},
   "source": [
    "***Vectorize the headlines:***"
   ]
  },
  {
   "cell_type": "code",
   "execution_count": 798,
   "metadata": {},
   "outputs": [
    {
     "name": "stdout",
     "output_type": "stream",
     "text": [
      "showing info https://raw.githubusercontent.com/nltk/nltk_data/gh-pages/index.xml\n"
     ]
    },
    {
     "data": {
      "text/plain": [
       "True"
      ]
     },
     "execution_count": 798,
     "metadata": {},
     "output_type": "execute_result"
    }
   ],
   "source": [
    "nltk.download()"
   ]
  },
  {
   "cell_type": "code",
   "execution_count": 1181,
   "metadata": {},
   "outputs": [
    {
     "ename": "SyntaxError",
     "evalue": "invalid syntax (<ipython-input-1181-4822f92aecd0>, line 16)",
     "output_type": "error",
     "traceback": [
      "\u001b[1;36m  File \u001b[1;32m\"<ipython-input-1181-4822f92aecd0>\"\u001b[1;36m, line \u001b[1;32m16\u001b[0m\n\u001b[1;33m    from nltk.tag import ???\u001b[0m\n\u001b[1;37m                         ^\u001b[0m\n\u001b[1;31mSyntaxError\u001b[0m\u001b[1;31m:\u001b[0m invalid syntax\n"
     ]
    }
   ],
   "source": [
    "import matplotlib.pyplot as plt\n",
    "import seaborn as sns\n",
    "sns.set()\n",
    "%matplotlib inline\n",
    "import numpy as np\n",
    "import pandas as pd\n",
    "\n",
    "from sklearn.preprocessing import StandardScaler\n",
    "from sklearn.feature_extraction.text import TfidfVectorizer\n",
    "\n",
    "from nltk.stem.snowball import EnglishStemmer\n",
    "from nltk.stem.lancaster import LancasterStemmer\n",
    "from nltk.stem.wordnet import WordNetLemmatizer\n",
    "\n",
    "from nltk.tokenize import RegexpTokenizer\n",
    "from nltk.tag import ???\n",
    "\n",
    "from nltk.corpus import stopwords\n",
    "\n",
    "analyzer_args = dict(        \n",
    "    stop_words='english', \n",
    "    ngram_range=(2,2),\n",
    "    max_df=1.0,\n",
    "    min_df=1,\n",
    "    max_features=None,\n",
    "    binary=False,\n",
    "    norm=None,\n",
    "    use_idf=False,\n",
    "    smooth_idf=False,\n",
    "    sublinear_tf=False\n",
    ")\n",
    "\n",
    "tokenizer = RegexpTokenizer('\\w+|\\$[\\d\\.]+|\\S+')\n",
    "def custom_tokenizer(string):\n",
    "    stop_words = set(stopwords.words('english'))\n",
    "    tokens = tokenizer(string) \n",
    "    tokens = [w for w in tokens if not w in stop_words]\n",
    "    return map(str, pos_tag(tokens, tagset='universal'))\n",
    "\n",
    "def custom_analyzer(doc):\n",
    "    stemmer = WordNetLemmatizer()\n",
    "    analyzer = TfidfVectorizer(tokenizer=custom_tokenizer, **analyzer_args).build_analyzer()\n",
    "    return (stemmer.lemmatize(w) for w in analyzer(doc))\n",
    "\n",
    "vect = TfidfVectorizer(analyzer=custom_analyzer, tokenizer=custom_tokenizer, **analyzer_args)\n",
    "\n",
    "tdmatrix = vect.fit_transform(headlines['text'])\n",
    "tdmatrix = pd.DataFrame(tdmatrix.toarray(), columns=vect.get_feature_names(), index=headlines.index)\n",
    "print(tdmatrix.shape)\n",
    "print(tdmatrix.sum().sort_values(ascending=False).head(10))\n",
    "tdmatrix.head()"
   ]
  },
  {
   "cell_type": "markdown",
   "metadata": {},
   "source": [
    "***Term counts:***"
   ]
  },
  {
   "cell_type": "code",
   "execution_count": 800,
   "metadata": {},
   "outputs": [
    {
     "data": {
      "text/plain": [
       "<matplotlib.axes._subplots.AxesSubplot at 0x1c6b2ddb208>"
      ]
     },
     "execution_count": 800,
     "metadata": {},
     "output_type": "execute_result"
    },
    {
     "data": {
      "image/png": "[encoded data removed]",
      "text/plain": [
       "<Figure size 432x288 with 1 Axes>"
      ]
     },
     "metadata": {},
     "output_type": "display_data"
    }
   ],
   "source": [
    "sns.boxplot(tdmatrix.sum())"
   ]
  },
  {
   "cell_type": "code",
   "execution_count": 801,
   "metadata": {},
   "outputs": [
    {
     "data": {
      "text/plain": [
       "<matplotlib.axes._subplots.AxesSubplot at 0x1c6ae2e40f0>"
      ]
     },
     "execution_count": 801,
     "metadata": {},
     "output_type": "execute_result"
    },
    {
     "data": {
      "image/png": "[encoded data removed]",
      "text/plain": [
       "<Figure size 432x288 with 1 Axes>"
      ]
     },
     "metadata": {},
     "output_type": "display_data"
    }
   ],
   "source": [
    "tdmatrix.sum().sort_values().tail(15).plot(kind='barh')"
   ]
  },
  {
   "cell_type": "code",
   "execution_count": 791,
   "metadata": {},
   "outputs": [
    {
     "data": {
      "text/plain": [
       "<matplotlib.axes._subplots.AxesSubplot at 0x1c6ac638668>"
      ]
     },
     "execution_count": 791,
     "metadata": {},
     "output_type": "execute_result"
    },
    {
     "data": {
      "image/png": "[encoded data removed]",
      "text/plain": [
       "<Figure size 432x288 with 1 Axes>"
      ]
     },
     "metadata": {},
     "output_type": "display_data"
    }
   ],
   "source": [
    "tdmatrix.sum().sort_values(ascending=False).head(100).plot(kind='line')"
   ]
  },
  {
   "cell_type": "code",
   "execution_count": 792,
   "metadata": {},
   "outputs": [
    {
     "name": "stderr",
     "output_type": "stream",
     "text": [
      "C:\\Anaconda3\\envs\\media\\lib\\site-packages\\matplotlib\\axes\\_axes.py:6462: UserWarning: The 'normed' kwarg is deprecated, and has been replaced by the 'density' kwarg.\n",
      "  warnings.warn(\"The 'normed' kwarg is deprecated, and has been \"\n"
     ]
    },
    {
     "data": {
      "text/plain": [
       "<matplotlib.axes._subplots.AxesSubplot at 0x1c6ac695b70>"
      ]
     },
     "execution_count": 792,
     "metadata": {},
     "output_type": "execute_result"
    },
    {
     "data": {
      "image/png": "[encoded data removed]",
      "text/plain": [
       "<Figure size 432x288 with 1 Axes>"
      ]
     },
     "metadata": {},
     "output_type": "display_data"
    }
   ],
   "source": [
    "sns.distplot(tdmatrix.sum().sort_values())"
   ]
  },
  {
   "cell_type": "markdown",
   "metadata": {},
   "source": [
    "***Dimensionality reduction:***"
   ]
  },
  {
   "cell_type": "markdown",
   "metadata": {},
   "source": [
    "PCA:"
   ]
  },
  {
   "cell_type": "code",
   "execution_count": 793,
   "metadata": {},
   "outputs": [
    {
     "data": {
      "image/png": "[encoded data removed]",
      "text/plain": [
       "<Figure size 1127.25x360 with 3 Axes>"
      ]
     },
     "metadata": {},
     "output_type": "display_data"
    }
   ],
   "source": [
    "from sklearn.decomposition import PCA\n",
    "from sklearn.preprocessing import StandardScaler\n",
    "\n",
    "scaler = StandardScaler(with_mean=True, with_std=True)\n",
    "\n",
    "pca = PCA(n_components=2)\n",
    "pca_coords = pca.fit_transform(scaler.fit_transform(tdmatrix))\n",
    "# pca_coords = pca.fit_transform(tdmatrix)\n",
    "\n",
    "chartdata = pd.DataFrame(np.concatenate([pca_coords, headlines['pub'].values.reshape((len(headlines),1))], axis=1), index=headlines.index)\n",
    "chartdata['len'] = headlines['text'].str.split().apply(len)\n",
    "chartdata.loc[:, 0] = chartdata[0].astype(float)\n",
    "chartdata.loc[:, 1] = chartdata[1].astype(float)\n",
    "\n",
    "chartdata.columns = ['x', 'y', 'pub', 'len']\n",
    "\n",
    "ax = sns.lmplot(data=chartdata, x='x',y='y', fit_reg=False, col='pub', hue='len', palette='Blues')"
   ]
  },
  {
   "cell_type": "markdown",
   "metadata": {},
   "source": [
    "Isomap:"
   ]
  },
  {
   "cell_type": "code",
   "execution_count": 794,
   "metadata": {},
   "outputs": [
    {
     "ename": "ValueError",
     "evalue": "cannot reshape array of size 1751 into shape (1471,1)",
     "output_type": "error",
     "traceback": [
      "\u001b[1;31m---------------------------------------------------------------------------\u001b[0m",
      "\u001b[1;31mValueError\u001b[0m                                Traceback (most recent call last)",
      "\u001b[1;32m<ipython-input-794-237a42ccc909>\u001b[0m in \u001b[0;36m<module>\u001b[1;34m()\u001b[0m\n\u001b[0;32m      4\u001b[0m \u001b[0mcoords\u001b[0m \u001b[1;33m=\u001b[0m \u001b[0miso\u001b[0m\u001b[1;33m.\u001b[0m\u001b[0mfit_transform\u001b[0m\u001b[1;33m(\u001b[0m\u001b[0mtdmatrix\u001b[0m\u001b[1;33m)\u001b[0m\u001b[1;33m\u001b[0m\u001b[0m\n\u001b[0;32m      5\u001b[0m \u001b[1;33m\u001b[0m\u001b[0m\n\u001b[1;32m----> 6\u001b[1;33m \u001b[0mchartdata\u001b[0m \u001b[1;33m=\u001b[0m \u001b[0mpd\u001b[0m\u001b[1;33m.\u001b[0m\u001b[0mDataFrame\u001b[0m\u001b[1;33m(\u001b[0m\u001b[0mnp\u001b[0m\u001b[1;33m.\u001b[0m\u001b[0mconcatenate\u001b[0m\u001b[1;33m(\u001b[0m\u001b[1;33m[\u001b[0m\u001b[0mcoords\u001b[0m\u001b[1;33m,\u001b[0m \u001b[0mheadlines\u001b[0m\u001b[1;33m[\u001b[0m\u001b[1;34m'pub'\u001b[0m\u001b[1;33m]\u001b[0m\u001b[1;33m.\u001b[0m\u001b[0mvalues\u001b[0m\u001b[1;33m.\u001b[0m\u001b[0mreshape\u001b[0m\u001b[1;33m(\u001b[0m\u001b[1;33m(\u001b[0m\u001b[1;36m1471\u001b[0m\u001b[1;33m,\u001b[0m\u001b[1;36m1\u001b[0m\u001b[1;33m)\u001b[0m\u001b[1;33m)\u001b[0m\u001b[1;33m]\u001b[0m\u001b[1;33m,\u001b[0m \u001b[0maxis\u001b[0m\u001b[1;33m=\u001b[0m\u001b[1;36m1\u001b[0m\u001b[1;33m)\u001b[0m\u001b[1;33m,\u001b[0m \u001b[0mindex\u001b[0m\u001b[1;33m=\u001b[0m\u001b[0mheadlines\u001b[0m\u001b[1;33m.\u001b[0m\u001b[0mindex\u001b[0m\u001b[1;33m)\u001b[0m\u001b[1;33m\u001b[0m\u001b[0m\n\u001b[0m\u001b[0;32m      7\u001b[0m \u001b[0mchartdata\u001b[0m\u001b[1;33m[\u001b[0m\u001b[1;34m'len'\u001b[0m\u001b[1;33m]\u001b[0m \u001b[1;33m=\u001b[0m \u001b[0mheadlines\u001b[0m\u001b[1;33m[\u001b[0m\u001b[1;34m'headline'\u001b[0m\u001b[1;33m]\u001b[0m\u001b[1;33m.\u001b[0m\u001b[0mstr\u001b[0m\u001b[1;33m.\u001b[0m\u001b[0msplit\u001b[0m\u001b[1;33m(\u001b[0m\u001b[1;33m)\u001b[0m\u001b[1;33m.\u001b[0m\u001b[0mapply\u001b[0m\u001b[1;33m(\u001b[0m\u001b[0mlen\u001b[0m\u001b[1;33m)\u001b[0m\u001b[1;33m\u001b[0m\u001b[0m\n\u001b[0;32m      8\u001b[0m \u001b[0mchartdata\u001b[0m\u001b[1;33m.\u001b[0m\u001b[0mloc\u001b[0m\u001b[1;33m[\u001b[0m\u001b[1;33m:\u001b[0m\u001b[1;33m,\u001b[0m \u001b[1;36m0\u001b[0m\u001b[1;33m]\u001b[0m \u001b[1;33m=\u001b[0m \u001b[0mchartdata\u001b[0m\u001b[1;33m[\u001b[0m\u001b[1;36m0\u001b[0m\u001b[1;33m]\u001b[0m\u001b[1;33m.\u001b[0m\u001b[0mastype\u001b[0m\u001b[1;33m(\u001b[0m\u001b[0mfloat\u001b[0m\u001b[1;33m)\u001b[0m\u001b[1;33m\u001b[0m\u001b[0m\n",
      "\u001b[1;31mValueError\u001b[0m: cannot reshape array of size 1751 into shape (1471,1)"
     ]
    }
   ],
   "source": [
    "from sklearn.manifold import Isomap\n",
    "\n",
    "iso = Isomap(n_components=2)\n",
    "coords = iso.fit_transform(tdmatrix)\n",
    "\n",
    "chartdata = pd.DataFrame(np.concatenate([coords, headlines['pub'].values.reshape((1471,1))], axis=1), index=headlines.index)\n",
    "chartdata['len'] = headlines['headline'].str.split().apply(len)\n",
    "chartdata.loc[:, 0] = chartdata[0].astype(float)\n",
    "chartdata.loc[:, 1] = chartdata[1].astype(float)\n",
    "\n",
    "chartdata.columns = ['x', 'y', 'pub', 'len']\n",
    "\n",
    "ax = sns.lmplot(data=chartdata, x='x',y='y', fit_reg=False, hue='len', col='pub', palette='Blues')\n",
    "# ax.set(xlim=[-15,5], ylim=[-20,40])"
   ]
  },
  {
   "cell_type": "code",
   "execution_count": 405,
   "metadata": {},
   "outputs": [
    {
     "data": {
      "image/png": "[encoded data removed]",
      "text/plain": [
       "<Figure size 1127.25x360 with 3 Axes>"
      ]
     },
     "metadata": {},
     "output_type": "display_data"
    }
   ],
   "source": [
    "from sklearn.manifold import TSNE\n",
    "\n",
    "tsne = TSNE(n_components=2, perplexity=5)\n",
    "# scaler = StandardScaler(with_mean=True, with_std=True)\n",
    "# tsne_coords = tsne.fit_transform(scaler.fit_transform(td))\n",
    "tsne_coords = tsne.fit_transform(tdmatrix)\n",
    "\n",
    "chartdata = pd.DataFrame(np.concatenate([tsne_coords, headlines['pub'].values.reshape((1471,1))], axis=1), index=headlines.index)\n",
    "chartdata['len'] = headlines['headline'].str.split().apply(len)\n",
    "chartdata.loc[:, 0] = chartdata[0].astype(float)\n",
    "chartdata.loc[:, 1] = chartdata[1].astype(float)\n",
    "\n",
    "chartdata.columns = ['x', 'y', 'pub', 'len']\n",
    "\n",
    "ax = sns.lmplot(data=chartdata, x='x',y='y', fit_reg=False, hue='len', col='pub', palette='Blues')"
   ]
  },
  {
   "cell_type": "markdown",
   "metadata": {},
   "source": [
    "parts of speech"
   ]
  },
  {
   "cell_type": "code",
   "execution_count": 110,
   "metadata": {},
   "outputs": [
    {
     "data": {
      "text/html": [
       "<div>\n",
       "<style scoped>\n",
       "    .dataframe tbody tr th:only-of-type {\n",
       "        vertical-align: middle;\n",
       "    }\n",
       "\n",
       "    .dataframe tbody tr th {\n",
       "        vertical-align: top;\n",
       "    }\n",
       "\n",
       "    .dataframe thead th {\n",
       "        text-align: right;\n",
       "    }\n",
       "</style>\n",
       "<table border=\"1\" class=\"dataframe\">\n",
       "  <thead>\n",
       "    <tr style=\"text-align: right;\">\n",
       "      <th></th>\n",
       "      <th>#</th>\n",
       "      <th>$</th>\n",
       "      <th>''</th>\n",
       "      <th>(</th>\n",
       "      <th>)</th>\n",
       "      <th>,</th>\n",
       "      <th>.</th>\n",
       "      <th>:</th>\n",
       "      <th>CC</th>\n",
       "      <th>CD</th>\n",
       "      <th>...</th>\n",
       "      <th>VB</th>\n",
       "      <th>VBD</th>\n",
       "      <th>VBG</th>\n",
       "      <th>VBN</th>\n",
       "      <th>VBP</th>\n",
       "      <th>VBZ</th>\n",
       "      <th>WDT</th>\n",
       "      <th>WP</th>\n",
       "      <th>WRB</th>\n",
       "      <th>``</th>\n",
       "    </tr>\n",
       "  </thead>\n",
       "  <tbody>\n",
       "    <tr>\n",
       "      <th>0</th>\n",
       "      <td>0.0</td>\n",
       "      <td>0.0</td>\n",
       "      <td>0.0</td>\n",
       "      <td>0.0</td>\n",
       "      <td>0.0</td>\n",
       "      <td>1.0</td>\n",
       "      <td>0.0</td>\n",
       "      <td>0.0</td>\n",
       "      <td>0.0</td>\n",
       "      <td>0.0</td>\n",
       "      <td>...</td>\n",
       "      <td>0.0</td>\n",
       "      <td>0.0</td>\n",
       "      <td>0.0</td>\n",
       "      <td>0.0</td>\n",
       "      <td>0.0</td>\n",
       "      <td>0.0</td>\n",
       "      <td>0.0</td>\n",
       "      <td>0.0</td>\n",
       "      <td>0.0</td>\n",
       "      <td>0.0</td>\n",
       "    </tr>\n",
       "    <tr>\n",
       "      <th>1</th>\n",
       "      <td>0.0</td>\n",
       "      <td>0.0</td>\n",
       "      <td>0.0</td>\n",
       "      <td>0.0</td>\n",
       "      <td>0.0</td>\n",
       "      <td>2.0</td>\n",
       "      <td>0.0</td>\n",
       "      <td>0.0</td>\n",
       "      <td>0.0</td>\n",
       "      <td>0.0</td>\n",
       "      <td>...</td>\n",
       "      <td>0.0</td>\n",
       "      <td>0.0</td>\n",
       "      <td>1.0</td>\n",
       "      <td>0.0</td>\n",
       "      <td>0.0</td>\n",
       "      <td>0.0</td>\n",
       "      <td>0.0</td>\n",
       "      <td>0.0</td>\n",
       "      <td>0.0</td>\n",
       "      <td>0.0</td>\n",
       "    </tr>\n",
       "    <tr>\n",
       "      <th>2</th>\n",
       "      <td>0.0</td>\n",
       "      <td>0.0</td>\n",
       "      <td>0.0</td>\n",
       "      <td>0.0</td>\n",
       "      <td>0.0</td>\n",
       "      <td>0.0</td>\n",
       "      <td>0.0</td>\n",
       "      <td>0.0</td>\n",
       "      <td>0.0</td>\n",
       "      <td>0.0</td>\n",
       "      <td>...</td>\n",
       "      <td>1.0</td>\n",
       "      <td>0.0</td>\n",
       "      <td>0.0</td>\n",
       "      <td>0.0</td>\n",
       "      <td>0.0</td>\n",
       "      <td>0.0</td>\n",
       "      <td>0.0</td>\n",
       "      <td>0.0</td>\n",
       "      <td>0.0</td>\n",
       "      <td>0.0</td>\n",
       "    </tr>\n",
       "    <tr>\n",
       "      <th>3</th>\n",
       "      <td>0.0</td>\n",
       "      <td>0.0</td>\n",
       "      <td>0.0</td>\n",
       "      <td>0.0</td>\n",
       "      <td>0.0</td>\n",
       "      <td>1.0</td>\n",
       "      <td>0.0</td>\n",
       "      <td>0.0</td>\n",
       "      <td>0.0</td>\n",
       "      <td>0.0</td>\n",
       "      <td>...</td>\n",
       "      <td>0.0</td>\n",
       "      <td>1.0</td>\n",
       "      <td>1.0</td>\n",
       "      <td>0.0</td>\n",
       "      <td>0.0</td>\n",
       "      <td>0.0</td>\n",
       "      <td>0.0</td>\n",
       "      <td>0.0</td>\n",
       "      <td>0.0</td>\n",
       "      <td>0.0</td>\n",
       "    </tr>\n",
       "    <tr>\n",
       "      <th>4</th>\n",
       "      <td>0.0</td>\n",
       "      <td>0.0</td>\n",
       "      <td>0.0</td>\n",
       "      <td>0.0</td>\n",
       "      <td>0.0</td>\n",
       "      <td>1.0</td>\n",
       "      <td>0.0</td>\n",
       "      <td>0.0</td>\n",
       "      <td>0.0</td>\n",
       "      <td>0.0</td>\n",
       "      <td>...</td>\n",
       "      <td>0.0</td>\n",
       "      <td>0.0</td>\n",
       "      <td>1.0</td>\n",
       "      <td>0.0</td>\n",
       "      <td>1.0</td>\n",
       "      <td>0.0</td>\n",
       "      <td>0.0</td>\n",
       "      <td>0.0</td>\n",
       "      <td>0.0</td>\n",
       "      <td>0.0</td>\n",
       "    </tr>\n",
       "  </tbody>\n",
       "</table>\n",
       "<p>5 rows × 42 columns</p>\n",
       "</div>"
      ],
      "text/plain": [
       "     #    $   ''    (    )    ,    .    :   CC   CD ...    VB  VBD  VBG  VBN  \\\n",
       "0  0.0  0.0  0.0  0.0  0.0  1.0  0.0  0.0  0.0  0.0 ...   0.0  0.0  0.0  0.0   \n",
       "1  0.0  0.0  0.0  0.0  0.0  2.0  0.0  0.0  0.0  0.0 ...   0.0  0.0  1.0  0.0   \n",
       "2  0.0  0.0  0.0  0.0  0.0  0.0  0.0  0.0  0.0  0.0 ...   1.0  0.0  0.0  0.0   \n",
       "3  0.0  0.0  0.0  0.0  0.0  1.0  0.0  0.0  0.0  0.0 ...   0.0  1.0  1.0  0.0   \n",
       "4  0.0  0.0  0.0  0.0  0.0  1.0  0.0  0.0  0.0  0.0 ...   0.0  0.0  1.0  0.0   \n",
       "\n",
       "   VBP  VBZ  WDT   WP  WRB   ``  \n",
       "0  0.0  0.0  0.0  0.0  0.0  0.0  \n",
       "1  0.0  0.0  0.0  0.0  0.0  0.0  \n",
       "2  0.0  0.0  0.0  0.0  0.0  0.0  \n",
       "3  0.0  0.0  0.0  0.0  0.0  0.0  \n",
       "4  1.0  0.0  0.0  0.0  0.0  0.0  \n",
       "\n",
       "[5 rows x 42 columns]"
      ]
     },
     "execution_count": 110,
     "metadata": {},
     "output_type": "execute_result"
    }
   ],
   "source": [
    "import nltk\n",
    "def pos_tag(doc):\n",
    "    tokenized = nltk.word_tokenize(doc)\n",
    "    tagged = nltk.pos_tag(tokenized)\n",
    "    pos = [x[1] for x in tagged]\n",
    "    return pd.Series(pos).value_counts()\n",
    "\n",
    "pos_counts = headlines['headline'].apply(pos_tag).fillna(0)\n",
    "pos_counts.head()"
   ]
  },
  {
   "cell_type": "code",
   "execution_count": 111,
   "metadata": {},
   "outputs": [
    {
     "data": {
      "text/plain": [
       "<matplotlib.axes._subplots.AxesSubplot at 0x1c6b8536f28>"
      ]
     },
     "execution_count": 111,
     "metadata": {},
     "output_type": "execute_result"
    },
    {
     "data": {
      "image/png": "[encoded data removed]",
      "text/plain": [
       "<Figure size 432x288 with 1 Axes>"
      ]
     },
     "metadata": {},
     "output_type": "display_data"
    }
   ],
   "source": [
    "pos_counts.loc[headlines['pub']=='fox'].sum().sort_values().tail(15).plot(kind='barh')"
   ]
  },
  {
   "cell_type": "code",
   "execution_count": 112,
   "metadata": {},
   "outputs": [
    {
     "data": {
      "text/plain": [
       "<matplotlib.axes._subplots.AxesSubplot at 0x1c6b7b50fd0>"
      ]
     },
     "execution_count": 112,
     "metadata": {},
     "output_type": "execute_result"
    },
    {
     "data": {
      "image/png": "[encoded data removed]",
      "text/plain": [
       "<Figure size 432x288 with 1 Axes>"
      ]
     },
     "metadata": {},
     "output_type": "display_data"
    }
   ],
   "source": [
    "pos_counts.loc[headlines['pub']=='nyt'].sum().sort_values().tail(15).plot(kind='barh')"
   ]
  },
  {
   "cell_type": "code",
   "execution_count": 113,
   "metadata": {},
   "outputs": [
    {
     "data": {
      "text/plain": [
       "<matplotlib.axes._subplots.AxesSubplot at 0x1c6b7bdd240>"
      ]
     },
     "execution_count": 113,
     "metadata": {},
     "output_type": "execute_result"
    },
    {
     "data": {
      "image/png": "[encoded data removed]",
      "text/plain": [
       "<Figure size 432x288 with 1 Axes>"
      ]
     },
     "metadata": {},
     "output_type": "display_data"
    }
   ],
   "source": [
    "pos_counts.loc[headlines['pub']=='wapo'].sum().sort_values().tail(15).plot(kind='barh')"
   ]
  },
  {
   "cell_type": "code",
   "execution_count": 114,
   "metadata": {},
   "outputs": [
    {
     "ename": "NameError",
     "evalue": "name 'tagged' is not defined",
     "output_type": "error",
     "traceback": [
      "\u001b[1;31m---------------------------------------------------------------------------\u001b[0m",
      "\u001b[1;31mNameError\u001b[0m                                 Traceback (most recent call last)",
      "\u001b[1;32m<ipython-input-114-b054ae3ac08c>\u001b[0m in \u001b[0;36m<module>\u001b[1;34m()\u001b[0m\n\u001b[1;32m----> 1\u001b[1;33m \u001b[1;33m[\u001b[0m\u001b[0mx\u001b[0m\u001b[1;33m[\u001b[0m\u001b[1;36m1\u001b[0m\u001b[1;33m]\u001b[0m \u001b[1;32mfor\u001b[0m \u001b[0mx\u001b[0m \u001b[1;32min\u001b[0m \u001b[0mtagged\u001b[0m\u001b[1;33m]\u001b[0m\u001b[1;33m\u001b[0m\u001b[0m\n\u001b[0m",
      "\u001b[1;31mNameError\u001b[0m: name 'tagged' is not defined"
     ]
    }
   ],
   "source": [
    "[x[1] for x in tagged]"
   ]
  },
  {
   "cell_type": "code",
   "execution_count": 262,
   "metadata": {},
   "outputs": [
    {
     "data": {
      "text/plain": [
       "\u001b[1;31mSignature:\u001b[0m \u001b[0mnltk\u001b[0m\u001b[1;33m.\u001b[0m\u001b[0mpos_tag\u001b[0m\u001b[1;33m(\u001b[0m\u001b[0mtokens\u001b[0m\u001b[1;33m,\u001b[0m \u001b[0mtagset\u001b[0m\u001b[1;33m=\u001b[0m\u001b[1;32mNone\u001b[0m\u001b[1;33m,\u001b[0m \u001b[0mlang\u001b[0m\u001b[1;33m=\u001b[0m\u001b[1;34m'eng'\u001b[0m\u001b[1;33m)\u001b[0m\u001b[1;33m\u001b[0m\u001b[0m\n",
       "\u001b[1;31mDocstring:\u001b[0m\n",
       "Use NLTK's currently recommended part of speech tagger to\n",
       "tag the given list of tokens.\n",
       "\n",
       "    >>> from nltk.tag import pos_tag\n",
       "    >>> from nltk.tokenize import word_tokenize\n",
       "    >>> pos_tag(word_tokenize(\"John's big idea isn't all that bad.\"))\n",
       "    [('John', 'NNP'), (\"'s\", 'POS'), ('big', 'JJ'), ('idea', 'NN'), ('is', 'VBZ'),\n",
       "    (\"n't\", 'RB'), ('all', 'PDT'), ('that', 'DT'), ('bad', 'JJ'), ('.', '.')]\n",
       "    >>> pos_tag(word_tokenize(\"John's big idea isn't all that bad.\"), tagset='universal')\n",
       "    [('John', 'NOUN'), (\"'s\", 'PRT'), ('big', 'ADJ'), ('idea', 'NOUN'), ('is', 'VERB'),\n",
       "    (\"n't\", 'ADV'), ('all', 'DET'), ('that', 'DET'), ('bad', 'ADJ'), ('.', '.')]\n",
       "\n",
       "NB. Use `pos_tag_sents()` for efficient tagging of more than one sentence.\n",
       "\n",
       ":param tokens: Sequence of tokens to be tagged\n",
       ":type tokens: list(str)\n",
       ":param tagset: the tagset to be used, e.g. universal, wsj, brown\n",
       ":type tagset: str\n",
       ":param lang: the ISO 639 code of the language, e.g. 'eng' for English, 'rus' for Russian\n",
       ":type lang: str\n",
       ":return: The tagged tokens\n",
       ":rtype: list(tuple(str, str))\n",
       "\u001b[1;31mFile:\u001b[0m      c:\\anaconda3\\envs\\media\\lib\\site-packages\\nltk\\tag\\__init__.py\n",
       "\u001b[1;31mType:\u001b[0m      function\n"
      ]
     },
     "metadata": {},
     "output_type": "display_data"
    }
   ],
   "source": [
    "nltk.pos_tag?"
   ]
  },
  {
   "cell_type": "code",
   "execution_count": null,
   "metadata": {},
   "outputs": [],
   "source": []
  }
 ],
 "metadata": {
  "kernelspec": {
   "display_name": "Python 3",
   "language": "python",
   "name": "python3"
  },
  "language_info": {
   "codemirror_mode": {
    "name": "ipython",
    "version": 3
   },
   "file_extension": ".py",
   "mimetype": "text/x-python",
   "name": "python",
   "nbconvert_exporter": "python",
   "pygments_lexer": "ipython3",
   "version": "3.6.5"
  }
 },
 "nbformat": 4,
 "nbformat_minor": 2
}
